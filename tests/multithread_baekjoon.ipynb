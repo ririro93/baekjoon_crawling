{
 "cells": [
  {
   "cell_type": "markdown",
   "id": "opened-dancing",
   "metadata": {},
   "source": [
    "# 그냥 스크래핑\n",
    "10개 -> 3.2초  <br>\n",
    "50개 -> 19.9초"
   ]
  },
  {
   "cell_type": "code",
   "execution_count": 65,
   "id": "turkish-practice",
   "metadata": {
    "ExecuteTime": {
     "end_time": "2021-02-03T14:06:47.769252Z",
     "start_time": "2021-02-03T14:06:47.726254Z"
    }
   },
   "outputs": [],
   "source": [
    "import datetime\n",
    "import requests\n",
    "from bs4 import BeautifulSoup\n",
    "\n",
    "class Solved():\n",
    "    URL = 'https://solved.ac/search?query='\n",
    "    selector = '#__next > div.contents > div:nth-child(3) > div:nth-child(2) > div > div.StickyTable__Wrapper-akg1ak-3.tcQcH.sticky-table > div > div:nth-child(2)'\n",
    "    baek_URL = 'https://www.acmicpc.net/problem/'\n",
    "    \n",
    "    def __init__(self, prob_num):\n",
    "        self.prob_num = str(prob_num)\n",
    "    \n",
    "    def get_tier(self):\n",
    "        self.URL += self.prob_num\n",
    "        self.baek_URL += self.prob_num\n",
    "        res = requests.get(self.URL)\n",
    "        soup = BeautifulSoup(res.text, 'html.parser')\n",
    "        soup = soup.select_one(self.selector)\n",
    "        soup_a = soup.find('a', {'href':self.baek_URL})\n",
    "        tier_info = soup_a.img\n",
    "        return tier_info"
   ]
  },
  {
   "cell_type": "code",
   "execution_count": 66,
   "id": "academic-startup",
   "metadata": {
    "ExecuteTime": {
     "end_time": "2021-02-03T14:06:47.908929Z",
     "start_time": "2021-02-03T14:06:47.890931Z"
    }
   },
   "outputs": [
    {
     "name": "stdout",
     "output_type": "stream",
     "text": [
      "[1000, 1008]\n"
     ]
    }
   ],
   "source": [
    "prob_nums = list(map(int, \"1000 1008 1012 1021 1107 1149 1158 1182 1212 1248 1260 1309 1330 1373 1406 1463 1476 1620 1662 1676 1697 1699 1707 1712 1748 1759 1764 1874 1912 1918 1926 1927 1929 1932 1934 1935 1978 2004 2089 2091 2133 2146 2156 2167 2178 2193 2206 2217 2225 2231 2293 2294 2309 2468 2504 2529 2557 2577 2583 2588 2606 2609 2644 2667 2739 2742 2743 2745 2753 2869 2884 2941 3078 3085 4179 4949 5014 5427 6064 6588 6593 6603 7562 7569 7576 7785 8393 9012 9093 9095 9205 9375 9465 9498 9613 10026 10162 10171 10172 10430 10718 10773 10799 10807 10808 10809 10817 10818 10819 10820 10824 10828 10844 10845 10866 10869 10872 10951 10952 10971 10972 10973 10974 11005 11047 11052 11053 11054 11055 11057 11279 11576 11653 11655 11656 11722 11723 11724 11726 11727 11729 12865 13398 14002 14391 14500 14501 14888 14889 15649 15650 15651 15652 15654 15655 15656 15657 15658 15661 15663 15664 15665 15666 15988 15990 16194 16208 16956 17087 17103 17298 17299 17404 17413\".split()))\n",
    "print(prob_nums[:2])"
   ]
  },
  {
   "cell_type": "code",
   "execution_count": 67,
   "id": "young-bobby",
   "metadata": {
    "ExecuteTime": {
     "end_time": "2021-02-03T14:06:52.414890Z",
     "start_time": "2021-02-03T14:06:48.110063Z"
    }
   },
   "outputs": [
    {
     "name": "stdout",
     "output_type": "stream",
     "text": [
      "['https://static.solved.ac/tier_small/1.svg', 'https://static.solved.ac/tier_small/2.svg', 'https://static.solved.ac/tier_small/9.svg', 'https://static.solved.ac/tier_small/7.svg', 'https://static.solved.ac/tier_small/11.svg', 'https://static.solved.ac/tier_small/10.svg', 'https://static.solved.ac/tier_small/6.svg', 'https://static.solved.ac/tier_small/9.svg', 'https://static.solved.ac/tier_small/2.svg', 'https://static.solved.ac/tier_small/13.svg']\n"
     ]
    }
   ],
   "source": [
    "prob_tier_info_list = []\n",
    "for prob_num in prob_nums[:10]:\n",
    "    solved = Solved(prob_num)\n",
    "    prob_tier_info_list.append(solved.get_tier().get('src'))\n",
    "print(prob_tier_info_list)"
   ]
  },
  {
   "cell_type": "markdown",
   "id": "revolutionary-dairy",
   "metadata": {},
   "source": [
    "# 멀티쓰레딩 적용\n",
    "10개 -> 0.861초 <br>\n",
    "50개 -> 2.4초"
   ]
  },
  {
   "cell_type": "code",
   "execution_count": 61,
   "id": "rough-degree",
   "metadata": {
    "ExecuteTime": {
     "end_time": "2021-02-03T11:39:07.166286Z",
     "start_time": "2021-02-03T11:39:07.143288Z"
    },
    "code_folding": []
   },
   "outputs": [],
   "source": [
    "import requests\n",
    "from bs4 import BeautifulSoup\n",
    "import concurrent.futures\n",
    "\n",
    "MAX_THREADS = 30\n",
    "\n",
    "class Solved():\n",
    "    URL = 'https://solved.ac/search?query='\n",
    "    selector = '#__next > div.contents > div:nth-child(3) > div:nth-child(2) > div > div.StickyTable__Wrapper-akg1ak-3.tcQcH.sticky-table > div > div:nth-child(2)'\n",
    "    baek_URL = 'https://www.acmicpc.net/problem/'\n",
    "    \n",
    "    def __init__(self, prob_nums):\n",
    "        self.prob_nums = prob_nums\n",
    "        self.tier_info = []\n",
    "    \n",
    "    def get_tier(self, prob_num):\n",
    "        prob_URL = self.URL + prob_num\n",
    "        baek_URL = self.baek_URL + prob_num\n",
    "        res = requests.get(prob_URL)\n",
    "        soup = BeautifulSoup(res.text, 'html.parser')\n",
    "        soup = soup.select_one(self.selector)\n",
    "        soup_a = soup.find('a', {'href':baek_URL})\n",
    "        tier_info = soup_a.img\n",
    "        self.tier_info.append(tier_info)\n",
    "    \n",
    "    def multi_threading(self):\n",
    "        threads = min(MAX_THREADS, len(self.prob_nums))\n",
    "        with concurrent.futures.ThreadPoolExecutor(max_workers=threads) as executor:\n",
    "            executor.map(self.get_tier, self.prob_nums[:50])\n",
    "    \n",
    "    def get_result(self):\n",
    "        return self.tier_info"
   ]
  },
  {
   "cell_type": "code",
   "execution_count": 62,
   "id": "champion-demographic",
   "metadata": {
    "ExecuteTime": {
     "end_time": "2021-02-03T11:39:07.415600Z",
     "start_time": "2021-02-03T11:39:07.408603Z"
    }
   },
   "outputs": [
    {
     "name": "stdout",
     "output_type": "stream",
     "text": [
      "['1000', '1008']\n"
     ]
    }
   ],
   "source": [
    "prob_nums = list(\"1000 1008 1012 1021 1107 1149 1158 1182 1212 1248 1260 1309 1330 1373 1406 1463 1476 1620 1662 1676 1697 1699 1707 1712 1748 1759 1764 1874 1912 1918 1926 1927 1929 1932 1934 1935 1978 2004 2089 2091 2133 2146 2156 2167 2178 2193 2206 2217 2225 2231 2293 2294 2309 2468 2504 2529 2557 2577 2583 2588 2606 2609 2644 2667 2739 2742 2743 2745 2753 2869 2884 2941 3078 3085 4179 4949 5014 5427 6064 6588 6593 6603 7562 7569 7576 7785 8393 9012 9093 9095 9205 9375 9465 9498 9613 10026 10162 10171 10172 10430 10718 10773 10799 10807 10808 10809 10817 10818 10819 10820 10824 10828 10844 10845 10866 10869 10872 10951 10952 10971 10972 10973 10974 11005 11047 11052 11053 11054 11055 11057 11279 11576 11653 11655 11656 11722 11723 11724 11726 11727 11729 12865 13398 14002 14391 14500 14501 14888 14889 15649 15650 15651 15652 15654 15655 15656 15657 15658 15661 15663 15664 15665 15666 15988 15990 16194 16208 16956 17087 17103 17298 17299 17404 17413\".split())\n",
    "print(prob_nums[:2])"
   ]
  },
  {
   "cell_type": "code",
   "execution_count": 63,
   "id": "assigned-imperial",
   "metadata": {
    "ExecuteTime": {
     "end_time": "2021-02-03T11:39:10.105150Z",
     "start_time": "2021-02-03T11:39:07.706102Z"
    }
   },
   "outputs": [
    {
     "name": "stdout",
     "output_type": "stream",
     "text": [
      "50\n"
     ]
    }
   ],
   "source": [
    "solved = Solved(prob_nums)\n",
    "solved.multi_threading()\n",
    "print(len(solved.get_result()))"
   ]
  },
  {
   "cell_type": "markdown",
   "id": "dependent-festival",
   "metadata": {
    "ExecuteTime": {
     "end_time": "2021-02-03T11:56:50.935672Z",
     "start_time": "2021-02-03T11:56:50.929965Z"
    }
   },
   "source": [
    "# Baekjoon multithreading"
   ]
  },
  {
   "cell_type": "code",
   "execution_count": null,
   "id": "opponent-mechanics",
   "metadata": {},
   "outputs": [],
   "source": [
    "import datetime\n",
    "import requests\n",
    "import concurrent.futures\n",
    "from bs4 import BeautifulSoup\n",
    "\n",
    "class Baekjoon():\n",
    "    member_URL = 'https://www.acmicpc.net/group/member/10060'\n",
    "    member_selector = 'body > div.wrapper > div.container.content > div.row > div:nth-child(5)'\n",
    "    solves_selector = '#status-table > tbody'\n",
    "    \n",
    "    def __init__(self):\n",
    "        self.member_ids = []\n",
    "        self.member_dict = {}\n",
    "        self.MAX_THREADS = 30\n",
    "        \n",
    "    # crawl member ids\n",
    "    def crawl_member_ids(self):\n",
    "        res = requests.get(self.member_URL)\n",
    "        soup = BeautifulSoup(res.text, 'html.parser')\n",
    "        soup = soup.select_one(self.member_selector)\n",
    "        # users info\n",
    "        infos = soup.find_all('div', {'class': 'member'})\n",
    "        for info in infos:\n",
    "            self.member_ids.append(info.h4.a.text)    \n",
    "    \n",
    "    # crawl member solves for each id\n",
    "    def crawl_member_solves(self, member_id):\n",
    "        print(member_id)\n",
    "        solves_URL = f'https://www.acmicpc.net/status?problem_id=&user_id={member_id}&language_id=-1&result_id=-1'\n",
    "        res = requests.get(solves_URL)\n",
    "        soup = BeautifulSoup(res.text, 'html.parser')\n",
    "        soup = soup.select_one(self.solves_selector)\n",
    "        solves_trs = soup.find_all('tr')\n",
    "        \n",
    "        # 맞은 문제는 적절한 데이터만 골라서 user_dict에 담기\n",
    "        corrects = []\n",
    "        for solves_tr in solves_trs:\n",
    "            result_span = solves_tr.find('span', {'class': 'result-ac'})          \n",
    "            if result_span:\n",
    "                q = solves_tr.find('a', {'class': 'problem_title'})\n",
    "                q_title = q.get('title')\n",
    "                q_num = q.text\n",
    "                solved_time = solves_tr.find('a', {'class': 'real-time-update'}).get('title')\n",
    "                q_info_dict = {\n",
    "                    'question_title': q_title,\n",
    "                    'question_number': q_num,\n",
    "                    'question_site': 'B',\n",
    "                    'solved_time': solved_time,                \n",
    "                }\n",
    "                self.member_dict[member_id].append(q_info_dict)\n",
    "    \n",
    "    # assign threads to different ids\n",
    "    def initiate_multithread_crawling(self, member_ids):\n",
    "        # initiate member_dict\n",
    "        for member_id in member_ids:\n",
    "            self.member_dict[member_id] = []\n",
    "        \n",
    "        # initiate crawling with threads\n",
    "        threads = min(self.MAX_THREADS, len(member_ids))\n",
    "        with concurrent.futures.ThreadPoolExecutor(max_workers=threads) as executor:\n",
    "            executor.map(self.crawl_member_solves, member_ids)\n",
    "    \n",
    "    def get_member_dict(self):\n",
    "        return self.member_dict        "
   ]
  }
 ],
 "metadata": {
  "kernelspec": {
   "display_name": "Python 3",
   "language": "python",
   "name": "python3"
  },
  "language_info": {
   "codemirror_mode": {
    "name": "ipython",
    "version": 3
   },
   "file_extension": ".py",
   "mimetype": "text/x-python",
   "name": "python",
   "nbconvert_exporter": "python",
   "pygments_lexer": "ipython3",
   "version": "3.8.7"
  },
  "toc": {
   "base_numbering": 1,
   "nav_menu": {},
   "number_sections": true,
   "sideBar": true,
   "skip_h1_title": false,
   "title_cell": "Table of Contents",
   "title_sidebar": "Contents",
   "toc_cell": false,
   "toc_position": {},
   "toc_section_display": true,
   "toc_window_display": false
  }
 },
 "nbformat": 4,
 "nbformat_minor": 5
}
