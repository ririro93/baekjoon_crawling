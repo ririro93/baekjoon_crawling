{
 "cells": [
  {
   "cell_type": "markdown",
   "id": "driven-broadcasting",
   "metadata": {},
   "source": [
    "# Crawling Main"
   ]
  },
  {
   "cell_type": "code",
   "execution_count": null,
   "id": "impressed-announcement",
   "metadata": {
    "ExecuteTime": {
     "end_time": "2021-01-30T05:44:28.748335Z",
     "start_time": "2021-01-30T05:44:28.438378Z"
    }
   },
   "outputs": [],
   "source": [
    "import datetime\n",
    "import requests\n",
    "from bs4 import BeautifulSoup\n",
    "\n",
    "class Baekjoon():\n",
    "    # get today's date\n",
    "    def get_date(self):\n",
    "        now = datetime.datetime.now()\n",
    "        formatted_today = f'{now.year}-{now.month:02}-{now.day:02}'\n",
    "        return formatted_today\n",
    "\n",
    "    # get info from web\n",
    "    def get_info(self, subject, URL, selector):\n",
    "        result = []\n",
    "        res = requests.get(URL)\n",
    "        soup = BeautifulSoup(res.text, 'html.parser')\n",
    "        soup = soup.select_one(selector)\n",
    "        # users info\n",
    "        if subject == 'users':\n",
    "            infos = soup.find_all('div', {'class': 'member'})\n",
    "            for info in infos:\n",
    "                result.append(info.h4.a.text)\n",
    "            return result\n",
    "        # problems info\n",
    "        elif subject == 'problems':\n",
    "            infos = soup.find_all('tr')\n",
    "            for info in infos:\n",
    "                result_span = info.find('span', {'class': 'result-ac'})          \n",
    "                # 맞았으면 통째로 반환\n",
    "                if result_span:\n",
    "                    result.append(info)\n",
    "            return result\n",
    "\n",
    "    # get user ids -> returns dictionary of key: user_id ,val: []\n",
    "    def get_user_ids(self):\n",
    "        user_URL = 'https://www.acmicpc.net/group/member/10060'\n",
    "        user_selector = 'body > div.wrapper > div.container.content > div.row > div:nth-child(5)'\n",
    "\n",
    "        user_ids = self.get_info('users', user_URL, user_selector)\n",
    "\n",
    "        # initialize dictionary to record todays' solves\n",
    "        dic = {}\n",
    "        for user_id in user_ids:\n",
    "            dic[user_id] = []\n",
    "        return user_ids, dic\n",
    "\n",
    "    # get results for each user\n",
    "    def get_all_results(self):\n",
    "        user_ids, user_dict = self.get_user_ids()\n",
    "        formatted_today = self.get_date()\n",
    "        for user_id in user_ids:\n",
    "            grading_URL = f'https://www.acmicpc.net/status?problem_id=&user_id={user_id}&language_id=-1&result_id=-1'\n",
    "            grading_selector = '#status-table > tbody'\n",
    "            prob_infos = self.get_info('problems', grading_URL, grading_selector)\n",
    "\n",
    "            # 테스트로 각 아이디 채점 현황당 3건 씩만 보기\n",
    "            for prob_info in prob_infos[:6]:\n",
    "                # get prob infos\n",
    "                prob = prob_info.find('a', {'class': 'problem_title'})\n",
    "                prob_title = prob.get('title')\n",
    "                prob_num = prob.text\n",
    "                solved_time = prob_info.find('a', {'class': 'real-time-update'}).get('title')\n",
    "                \n",
    "                # get tier info\n",
    "                solved = Solved(prob_num)\n",
    "                prob_tier_info = solved.get_tier()\n",
    "                prob_tier = prob_tier_info.get('alt')\n",
    "                prob_tier_src = prob_tier_info.get('src')\n",
    "\n",
    "                # make dict and add to prob_infos_list\n",
    "                # solved time을 어떻게 처리해야될지 고민해보기\n",
    "                prob_info_dict = {\n",
    "                    'question_title': prob_title,\n",
    "                    'question_number': prob_num,\n",
    "                    'question_tier': prob_tier,\n",
    "                    'question_site': 'B',\n",
    "                    'solved_time': solved_time,\n",
    "                }\n",
    "                user_dict[user_id].append(prob_info_dict)\n",
    "        return user_dict\n",
    "    \n",
    "class Solved():\n",
    "    URL = 'https://solved.ac/search?query='\n",
    "    selector = '#__next > div.contents > div:nth-child(3) > div:nth-child(2) > div > div.StickyTable__Wrapper-akg1ak-3.tcQcH.sticky-table > div > div:nth-child(2)'\n",
    "    baek_URL = 'https://www.acmicpc.net/problem/'\n",
    "    \n",
    "    def __init__(self, prob_num):\n",
    "        self.prob_num = str(prob_num)\n",
    "    \n",
    "    def get_tier(self):\n",
    "        self.URL += self.prob_num\n",
    "        self.baek_URL += self.prob_num\n",
    "        res = requests.get(self.URL)\n",
    "        soup = BeautifulSoup(res.text, 'html.parser')\n",
    "        soup = soup.select_one(self.selector)\n",
    "        soup_a = soup.find('a', {'href':self.baek_URL})\n",
    "        tier_info = soup_a.img\n",
    "        return tier_info"
   ]
  },
  {
   "cell_type": "code",
   "execution_count": null,
   "id": "continuous-links",
   "metadata": {
    "ExecuteTime": {
     "end_time": "2021-01-30T05:57:47.665847Z",
     "start_time": "2021-01-30T05:57:47.652854Z"
    }
   },
   "outputs": [],
   "source": [
    "baek = Baekjoon()\n",
    "\n",
    "baek.get_all_results()"
   ]
  },
  {
   "cell_type": "markdown",
   "id": "partial-istanbul",
   "metadata": {
    "ExecuteTime": {
     "end_time": "2021-02-02T23:54:04.455426Z",
     "start_time": "2021-02-02T23:54:04.451428Z"
    }
   },
   "source": [
    "# Selenium Test"
   ]
  },
  {
   "cell_type": "code",
   "execution_count": null,
   "id": "tight-austria",
   "metadata": {
    "ExecuteTime": {
     "end_time": "2021-01-30T06:06:13.342719Z",
     "start_time": "2021-01-30T06:06:13.331727Z"
    }
   },
   "outputs": [],
   "source": [
    "import datetime\n",
    "import requests\n",
    "\n",
    "from pprint import pprint\n",
    "from bs4 import BeautifulSoup\n",
    "\n",
    "from selenium import webdriver\n",
    "from selenium.webdriver.common.by import By\n",
    "from selenium.webdriver.support.ui import WebDriverWait\n",
    "from selenium.webdriver.support import expected_conditions as EC"
   ]
  },
  {
   "cell_type": "code",
   "execution_count": null,
   "id": "joint-irrigation",
   "metadata": {},
   "outputs": [],
   "source": [
    "driver = webdriver.PhantomJS()\n",
    "driver.get(\"https://www.acmicpc.net/status?problem_id=&user_id=rhyuys115&language_id=-1&result_id=-1\")\n",
    "\n",
    "wait = WebDriverWait(driver, 10)\n",
    "\n",
    "# click proceed\n",
    "proceed = wait.until(EC.presence_of_element_located((By.LINK_TEXT, \"Proceed\")))\n",
    "proceed.click()\n",
    "\n",
    "# wait for the content to be present\n",
    "wait.until(EC.presence_of_element_located((By.ID, \"workskin\")))\n",
    "\n",
    "soup = BeautifulSoup(driver.page_source, \"html.parser\")\n",
    "soup.prettify()"
   ]
  },
  {
   "cell_type": "code",
   "execution_count": null,
   "id": "historic-medicine",
   "metadata": {
    "ExecuteTime": {
     "end_time": "2021-01-30T06:02:58.555977Z",
     "start_time": "2021-01-30T06:02:58.173076Z"
    }
   },
   "outputs": [],
   "source": [
    "selector = '#solution-25830320 > td:nth-child(3) > img'\n",
    "url = 'https://www.acmicpc.net/status?problem_id=&user_id=rhyuys115&language_id=-1&result_id=-1'\n",
    "res = requests.get(url)\n",
    "soup = BeautifulSoup(res.text, 'html.parser')\n",
    "soup = soup.select_one(selector)\n",
    "print(soup)"
   ]
  },
  {
   "cell_type": "code",
   "execution_count": null,
   "id": "athletic-affiliation",
   "metadata": {
    "ExecuteTime": {
     "end_time": "2021-01-30T07:03:46.222010Z",
     "start_time": "2021-01-30T07:03:46.206019Z"
    }
   },
   "outputs": [],
   "source": [
    "a = {'a': 'asdf', 'b': 'qwer', 'c': 'wret'}"
   ]
  },
  {
   "cell_type": "code",
   "execution_count": null,
   "id": "breathing-research",
   "metadata": {
    "ExecuteTime": {
     "end_time": "2021-01-30T07:03:51.280611Z",
     "start_time": "2021-01-30T07:03:51.093724Z"
    }
   },
   "outputs": [],
   "source": [
    "a[:-1]"
   ]
  },
  {
   "cell_type": "code",
   "execution_count": null,
   "id": "severe-delight",
   "metadata": {
    "ExecuteTime": {
     "end_time": "2021-01-30T07:26:22.743907Z",
     "start_time": "2021-01-30T07:26:22.738910Z"
    }
   },
   "outputs": [],
   "source": [
    "import datetime"
   ]
  },
  {
   "cell_type": "code",
   "execution_count": null,
   "id": "civil-japan",
   "metadata": {
    "ExecuteTime": {
     "end_time": "2021-01-30T07:27:11.972218Z",
     "start_time": "2021-01-30T07:27:11.958229Z"
    }
   },
   "outputs": [],
   "source": [
    "a = datetime.datetime(1998, 8, 9)\n",
    "a.hour"
   ]
  },
  {
   "cell_type": "code",
   "execution_count": null,
   "id": "departmental-promotion",
   "metadata": {
    "ExecuteTime": {
     "end_time": "2021-01-30T07:27:35.511796Z",
     "start_time": "2021-01-30T07:27:35.491808Z"
    }
   },
   "outputs": [],
   "source": [
    "int('08')"
   ]
  },
  {
   "cell_type": "code",
   "execution_count": null,
   "id": "double-harvey",
   "metadata": {
    "ExecuteTime": {
     "end_time": "2021-01-30T07:40:18.657841Z",
     "start_time": "2021-01-30T07:40:18.638851Z"
    }
   },
   "outputs": [],
   "source": [
    "import datetime\n",
    "solved_time = '2021-01-28 20:56:53'\n",
    "year, month, day, hour, minute = map(int, [solved_time[:4], solved_time[5:7], solved_time[8:10], solved_time[-8:-6], solved_time[-5:-3]])\n",
    "a = datetime.datetime(year, month, day, hour, minute)\n",
    "a"
   ]
  },
  {
   "cell_type": "code",
   "execution_count": null,
   "id": "empirical-teacher",
   "metadata": {
    "ExecuteTime": {
     "end_time": "2021-01-30T07:40:23.434883Z",
     "start_time": "2021-01-30T07:40:23.418893Z"
    }
   },
   "outputs": [],
   "source": [
    "a.hour"
   ]
  },
  {
   "cell_type": "markdown",
   "id": "dramatic-brief",
   "metadata": {},
   "source": [
    "# datetime test"
   ]
  },
  {
   "cell_type": "code",
   "execution_count": null,
   "id": "metropolitan-sample",
   "metadata": {
    "ExecuteTime": {
     "end_time": "2021-02-01T11:22:50.814721Z",
     "start_time": "2021-02-01T11:22:50.797732Z"
    }
   },
   "outputs": [],
   "source": [
    "import datetime\n",
    "d = datetime.date.today().day - 1\n",
    "nday = datetime.date.today() - datetime.timedelta(days=d)\n",
    "nday"
   ]
  },
  {
   "cell_type": "code",
   "execution_count": null,
   "id": "precise-vatican",
   "metadata": {},
   "outputs": [],
   "source": []
  },
  {
   "cell_type": "markdown",
   "id": "oriented-blackberry",
   "metadata": {},
   "source": [
    "# Multithreading Test"
   ]
  },
  {
   "cell_type": "code",
   "execution_count": 2,
   "id": "compressed-medication",
   "metadata": {
    "ExecuteTime": {
     "end_time": "2021-02-03T04:17:53.020125Z",
     "start_time": "2021-02-03T04:17:41.466098Z"
    }
   },
   "outputs": [
    {
     "name": "stdout",
     "output_type": "stream",
     "text": [
      "285\n",
      "https://www.aboutamazon.com/news/company-news/email-from-jeff-bezos-to-employees\n",
      "https://carltheperson.com/posts/10-things-linux\n",
      "https://koreajoongangdaily.joins.com/2020/12/07/business/industry/SK-hynix-NAND-Flash/20201207153100497.html\n"
     ]
    }
   ],
   "source": [
    "import requests\n",
    "from bs4 import BeautifulSoup\n",
    "import time\n",
    "\n",
    "BASE_URL = \"https://news.ycombinator.com/\"\n",
    "STORY_LINKS = []\n",
    "\n",
    "for i in range(10):\n",
    "    resp = requests.get(f\"{BASE_URL}news?p={i}\")\n",
    "    soup = BeautifulSoup(resp.content, \"html.parser\")\n",
    "    stories = soup.find_all(\"a\", attrs={\"class\":\"storylink\"})\n",
    "    links = [x[\"href\"] for x in stories if \"http\" in x[\"href\"]]\n",
    "    STORY_LINKS += links\n",
    "    time.sleep(0.25)\n",
    "\n",
    "print(len(STORY_LINKS))\n",
    "\n",
    "for url in STORY_LINKS[:3]:\n",
    "    print(url)"
   ]
  },
  {
   "cell_type": "code",
   "execution_count": 3,
   "id": "thrown-quantum",
   "metadata": {
    "ExecuteTime": {
     "end_time": "2021-02-03T04:18:36.434706Z",
     "start_time": "2021-02-03T04:18:36.055707Z"
    }
   },
   "outputs": [
    {
     "name": "stdout",
     "output_type": "stream",
     "text": [
      "Request took 0.36 seconds.\n"
     ]
    }
   ],
   "source": [
    "import time\n",
    "\n",
    "def download_url(url):\n",
    "    t0 = time.time()\n",
    "    resp = requests.get(url)\n",
    "    t1 = time.time()\n",
    "    print(f\"Request took {round(t1-t0, 2)} seconds.\")\n",
    "    \n",
    "    title = \"\".join(x for x in url if x.isalpha()) + \"html\"\n",
    "    \n",
    "    with open(title, \"wb\") as fh:\n",
    "        fh.write(resp.content)\n",
    "\n",
    "download_url(\"https://beckernick.github.io/what-blogging-taught-me-about-software/\")"
   ]
  },
  {
   "cell_type": "code",
   "execution_count": 7,
   "id": "clear-setting",
   "metadata": {
    "ExecuteTime": {
     "end_time": "2021-02-03T10:53:23.591521Z",
     "start_time": "2021-02-03T10:53:23.583522Z"
    }
   },
   "outputs": [],
   "source": [
    "def download_url(url):\n",
    "    print(url)\n",
    "    resp = requests.get(url)\n",
    "    title = \"\".join(x for x in url if x.isalpha()) + \"html\"\n",
    "    \n",
    "    with open('urls/'+title, \"wb\") as fh:\n",
    "        fh.write(resp.content)\n",
    "        \n",
    "    time.sleep(0.25)\n",
    "        \n",
    "def download_stories(story_urls):\n",
    "    for url in story_urls:\n",
    "        download_url(url)\n",
    "\n",
    "def main(story_urls):\n",
    "    t0 = time.time()\n",
    "    download_stories(story_urls)\n",
    "    t1 = time.time()\n",
    "    print(f\"{t1-t0} seconds to download {len(story_urls)} stories.\")"
   ]
  },
  {
   "cell_type": "code",
   "execution_count": 8,
   "id": "tough-voluntary",
   "metadata": {
    "ExecuteTime": {
     "end_time": "2021-02-03T10:53:28.328281Z",
     "start_time": "2021-02-03T10:53:24.223418Z"
    }
   },
   "outputs": [
    {
     "name": "stdout",
     "output_type": "stream",
     "text": [
      "https://www.aboutamazon.com/news/company-news/email-from-jeff-bezos-to-employees\n",
      "https://carltheperson.com/posts/10-things-linux\n",
      "https://koreajoongangdaily.joins.com/2020/12/07/business/industry/SK-hynix-NAND-Flash/20201207153100497.html\n",
      "https://documentation.divio.com/\n",
      "https://daveceddia.com/react-confirmation-modal-state-machine/\n",
      "4.088822364807129 seconds to download 5 stories.\n"
     ]
    }
   ],
   "source": [
    "main(STORY_LINKS[:5])"
   ]
  },
  {
   "cell_type": "code",
   "execution_count": null,
   "id": "utility-asbestos",
   "metadata": {},
   "outputs": [],
   "source": []
  }
 ],
 "metadata": {
  "kernelspec": {
   "display_name": "Python 3",
   "language": "python",
   "name": "python3"
  },
  "language_info": {
   "codemirror_mode": {
    "name": "ipython",
    "version": 3
   },
   "file_extension": ".py",
   "mimetype": "text/x-python",
   "name": "python",
   "nbconvert_exporter": "python",
   "pygments_lexer": "ipython3",
   "version": "3.8.7"
  },
  "toc": {
   "base_numbering": 1,
   "nav_menu": {},
   "number_sections": true,
   "sideBar": true,
   "skip_h1_title": false,
   "title_cell": "Table of Contents",
   "title_sidebar": "Contents",
   "toc_cell": false,
   "toc_position": {},
   "toc_section_display": true,
   "toc_window_display": false
  }
 },
 "nbformat": 4,
 "nbformat_minor": 5
}
