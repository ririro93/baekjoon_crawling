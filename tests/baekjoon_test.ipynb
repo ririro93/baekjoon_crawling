{
 "cells": [
  {
   "cell_type": "code",
   "execution_count": 4,
   "id": "impressed-announcement",
   "metadata": {
    "ExecuteTime": {
     "end_time": "2021-01-30T05:44:28.748335Z",
     "start_time": "2021-01-30T05:44:28.438378Z"
    }
   },
   "outputs": [],
   "source": [
    "import datetime\n",
    "import requests\n",
    "\n",
    "from pprint import pprint\n",
    "from bs4 import BeautifulSoup"
   ]
  },
  {
   "cell_type": "code",
   "execution_count": 29,
   "id": "burning-malawi",
   "metadata": {
    "ExecuteTime": {
     "end_time": "2021-01-30T05:57:47.478844Z",
     "start_time": "2021-01-30T05:57:47.456857Z"
    }
   },
   "outputs": [],
   "source": [
    "class Baekjoon():\n",
    "    \n",
    "    # get today's date\n",
    "    def get_date(self):\n",
    "        now = datetime.datetime.now()\n",
    "        formatted_today = f'{now.year}-{now.month:02}-{now.day:02}'\n",
    "        return formatted_today\n",
    "\n",
    "    # get info from web\n",
    "    def get_info(self, subject, URL, selector):\n",
    "        result = []\n",
    "        res = requests.get(URL)\n",
    "        soup = BeautifulSoup(res.text, 'html.parser')\n",
    "        soup = soup.select_one(selector)\n",
    "        # users info\n",
    "        if subject == 'users':\n",
    "            infos = soup.find_all('div', {'class': 'member'})\n",
    "            for info in infos:\n",
    "                result.append(info.h4.a.text)\n",
    "            return result\n",
    "        # problems info\n",
    "        elif subject == 'problems':\n",
    "            infos = soup.find_all('tr')\n",
    "            for info in infos[:2]:\n",
    "                print(info)\n",
    "                images = info.find_all('img')\n",
    "                print(images)\n",
    "                result_span = info.find('span', {'class': 'result-ac'})          \n",
    "                # 맞았으면 통째로 반환\n",
    "                if result_span:\n",
    "                    result.append(info)\n",
    "            return result\n",
    "\n",
    "    # get user ids -> returns dictionary of key: user_id ,val: []\n",
    "    def get_user_ids(self):\n",
    "        user_URL = 'https://www.acmicpc.net/group/member/10060'\n",
    "        user_selector = 'body > div.wrapper > div.container.content > div.row > div:nth-child(5)'\n",
    "\n",
    "        user_ids = self.get_info('users', user_URL, user_selector)\n",
    "        # print(f'오늘자 서울_1반 알고리즘 스터디 가입자:\\n{user_ids}\\n')\n",
    "\n",
    "        # initialize dictionary to record todays' solves\n",
    "        dic = {}\n",
    "        for user_id in user_ids:\n",
    "            dic[user_id] = []\n",
    "        return user_ids, dic\n",
    "\n",
    "    # get results for each user\n",
    "    def get_all_results(self):\n",
    "        user_ids, user_dict = self.get_user_ids()\n",
    "        formatted_today = self.get_date()\n",
    "        for user_id in user_ids:\n",
    "            grading_URL = f'https://www.acmicpc.net/status?problem_id=&user_id={user_id}&language_id=-1&result_id=-1'\n",
    "            grading_selector = '#status-table > tbody'\n",
    "            prob_infos = self.get_info('problems', grading_URL, grading_selector)\n",
    "        \n",
    "            for prob_info in prob_infos[:2]:\n",
    "                print(prob_info)\n",
    "                prob = prob_info.find('a', {'class': 'problem_title'})\n",
    "                prob_title = prob.get('title')\n",
    "                # get prob_tier\n",
    "                prob_tier_image = prob_info.find('img', {'class': 'solvedac-tier'})\n",
    "                prob_tier = prob_tier_image.get('src')\n",
    "                print(prob_tier)\n",
    "                prob_num = prob.text\n",
    "                date = prob_info.find('a', {'class': 'real-time-update'}).get('title')[:10]\n",
    "                if date == formatted_today:\n",
    "                    user_dict[user_id].append((prob_num, prob_title))\n",
    "\n",
    "        # show results\n",
    "        # print('오늘 푼 문제 목록:')\n",
    "        pprint(user_dict)\n",
    "        return user_dict"
   ]
  },
  {
   "cell_type": "code",
   "execution_count": 30,
   "id": "continuous-links",
   "metadata": {
    "ExecuteTime": {
     "end_time": "2021-01-30T05:57:47.665847Z",
     "start_time": "2021-01-30T05:57:47.652854Z"
    }
   },
   "outputs": [],
   "source": [
    "baek = Baekjoon()"
   ]
  },
  {
   "cell_type": "code",
   "execution_count": 31,
   "id": "explicit-narrow",
   "metadata": {
    "ExecuteTime": {
     "end_time": "2021-01-30T05:57:48.523983Z",
     "start_time": "2021-01-30T05:57:47.830856Z"
    }
   },
   "outputs": [
    {
     "name": "stdout",
     "output_type": "stream",
     "text": [
      "<tr id=\"solution-25835261\"><td>25835261</td><td><a href=\"/user/jyk_helia\">jyk_helia</a></td><td><a class=\"problem_title tooltip-click\" data-placement=\"right\" href=\"/problem/2438\" rel=\"tooltip\" title=\"별 찍기 - 1\">2438</a></td><td class=\"result\"><span class=\"result-text\"><span class=\"result-ac\">맞았습니다!!</span></span></td><td class=\"memory\">28776<span class=\"kb-text\"></span></td><td class=\"time\">72<span class=\"ms-text\"></span></td><td>Python 3</td><td>105<span class=\"b-text\"></span></td><td><a class=\"real-time-update show-date\" data-method=\"from-now\" data-placement=\"top\" data-timestamp=\"1611978777\" href=\"javascript:void(0);\" rel=\"tooltip\" title=\"2021-01-30 12:52:57\">2시간 전</a></td></tr>\n",
      "[]\n",
      "<tr id=\"solution-25835070\"><td>25835070</td><td><a href=\"/user/jyk_helia\">jyk_helia</a></td><td><a class=\"problem_title tooltip-click\" data-placement=\"right\" href=\"/problem/2438\" rel=\"tooltip\" title=\"별 찍기 - 1\">2438</a></td><td class=\"result\"><span class=\"result-text\"><span class=\"result-wa\">틀렸습니다</span></span></td><td class=\"memory\"></td><td class=\"time\"></td><td>Python 3</td><td>103<span class=\"b-text\"></span></td><td><a class=\"real-time-update show-date\" data-method=\"from-now\" data-placement=\"top\" data-timestamp=\"1611978218\" href=\"javascript:void(0);\" rel=\"tooltip\" title=\"2021-01-30 12:43:38\">2시간 전</a></td></tr>\n",
      "[]\n",
      "<tr id=\"solution-25835261\"><td>25835261</td><td><a href=\"/user/jyk_helia\">jyk_helia</a></td><td><a class=\"problem_title tooltip-click\" data-placement=\"right\" href=\"/problem/2438\" rel=\"tooltip\" title=\"별 찍기 - 1\">2438</a></td><td class=\"result\"><span class=\"result-text\"><span class=\"result-ac\">맞았습니다!!</span></span></td><td class=\"memory\">28776<span class=\"kb-text\"></span></td><td class=\"time\">72<span class=\"ms-text\"></span></td><td>Python 3</td><td>105<span class=\"b-text\"></span></td><td><a class=\"real-time-update show-date\" data-method=\"from-now\" data-placement=\"top\" data-timestamp=\"1611978777\" href=\"javascript:void(0);\" rel=\"tooltip\" title=\"2021-01-30 12:52:57\">2시간 전</a></td></tr>\n"
     ]
    },
    {
     "ename": "AttributeError",
     "evalue": "'NoneType' object has no attribute 'get'",
     "output_type": "error",
     "traceback": [
      "\u001b[1;31m---------------------------------------------------------------------------\u001b[0m",
      "\u001b[1;31mAttributeError\u001b[0m                            Traceback (most recent call last)",
      "\u001b[1;32m<ipython-input-31-312b78ace41b>\u001b[0m in \u001b[0;36m<module>\u001b[1;34m\u001b[0m\n\u001b[1;32m----> 1\u001b[1;33m \u001b[0mbaek\u001b[0m\u001b[1;33m.\u001b[0m\u001b[0mget_all_results\u001b[0m\u001b[1;33m(\u001b[0m\u001b[1;33m)\u001b[0m\u001b[1;33m\u001b[0m\u001b[1;33m\u001b[0m\u001b[0m\n\u001b[0m",
      "\u001b[1;32m<ipython-input-29-3e48115d0b98>\u001b[0m in \u001b[0;36mget_all_results\u001b[1;34m(self)\u001b[0m\n\u001b[0;32m     61\u001b[0m                 \u001b[1;31m# get prob_tier\u001b[0m\u001b[1;33m\u001b[0m\u001b[1;33m\u001b[0m\u001b[1;33m\u001b[0m\u001b[0m\n\u001b[0;32m     62\u001b[0m                 \u001b[0mprob_tier_image\u001b[0m \u001b[1;33m=\u001b[0m \u001b[0mprob_info\u001b[0m\u001b[1;33m.\u001b[0m\u001b[0mfind\u001b[0m\u001b[1;33m(\u001b[0m\u001b[1;34m'img'\u001b[0m\u001b[1;33m,\u001b[0m \u001b[1;33m{\u001b[0m\u001b[1;34m'class'\u001b[0m\u001b[1;33m:\u001b[0m \u001b[1;34m'solvedac-tier'\u001b[0m\u001b[1;33m}\u001b[0m\u001b[1;33m)\u001b[0m\u001b[1;33m\u001b[0m\u001b[1;33m\u001b[0m\u001b[0m\n\u001b[1;32m---> 63\u001b[1;33m                 \u001b[0mprob_tier\u001b[0m \u001b[1;33m=\u001b[0m \u001b[0mprob_tier_image\u001b[0m\u001b[1;33m.\u001b[0m\u001b[0mget\u001b[0m\u001b[1;33m(\u001b[0m\u001b[1;34m'src'\u001b[0m\u001b[1;33m)\u001b[0m\u001b[1;33m\u001b[0m\u001b[1;33m\u001b[0m\u001b[0m\n\u001b[0m\u001b[0;32m     64\u001b[0m                 \u001b[0mprint\u001b[0m\u001b[1;33m(\u001b[0m\u001b[0mprob_tier\u001b[0m\u001b[1;33m)\u001b[0m\u001b[1;33m\u001b[0m\u001b[1;33m\u001b[0m\u001b[0m\n\u001b[0;32m     65\u001b[0m                 \u001b[0mprob_num\u001b[0m \u001b[1;33m=\u001b[0m \u001b[0mprob\u001b[0m\u001b[1;33m.\u001b[0m\u001b[0mtext\u001b[0m\u001b[1;33m\u001b[0m\u001b[1;33m\u001b[0m\u001b[0m\n",
      "\u001b[1;31mAttributeError\u001b[0m: 'NoneType' object has no attribute 'get'"
     ]
    }
   ],
   "source": [
    "baek.get_all_results()"
   ]
  },
  {
   "cell_type": "code",
   "execution_count": 36,
   "id": "tight-austria",
   "metadata": {
    "ExecuteTime": {
     "end_time": "2021-01-30T06:06:13.342719Z",
     "start_time": "2021-01-30T06:06:13.331727Z"
    }
   },
   "outputs": [
    {
     "ename": "ModuleNotFoundError",
     "evalue": "No module named 'selenium'",
     "output_type": "error",
     "traceback": [
      "\u001b[1;31m---------------------------------------------------------------------------\u001b[0m",
      "\u001b[1;31mModuleNotFoundError\u001b[0m                       Traceback (most recent call last)",
      "\u001b[1;32m<ipython-input-36-41f7dbf7d06d>\u001b[0m in \u001b[0;36m<module>\u001b[1;34m\u001b[0m\n\u001b[0;32m      5\u001b[0m \u001b[1;32mfrom\u001b[0m \u001b[0mbs4\u001b[0m \u001b[1;32mimport\u001b[0m \u001b[0mBeautifulSoup\u001b[0m\u001b[1;33m\u001b[0m\u001b[1;33m\u001b[0m\u001b[0m\n\u001b[0;32m      6\u001b[0m \u001b[1;33m\u001b[0m\u001b[0m\n\u001b[1;32m----> 7\u001b[1;33m \u001b[1;32mfrom\u001b[0m \u001b[0mselenium\u001b[0m \u001b[1;32mimport\u001b[0m \u001b[0mwebdriver\u001b[0m\u001b[1;33m\u001b[0m\u001b[1;33m\u001b[0m\u001b[0m\n\u001b[0m\u001b[0;32m      8\u001b[0m \u001b[1;32mfrom\u001b[0m \u001b[0mselenium\u001b[0m\u001b[1;33m.\u001b[0m\u001b[0mwebdriver\u001b[0m\u001b[1;33m.\u001b[0m\u001b[0mcommon\u001b[0m\u001b[1;33m.\u001b[0m\u001b[0mby\u001b[0m \u001b[1;32mimport\u001b[0m \u001b[0mBy\u001b[0m\u001b[1;33m\u001b[0m\u001b[1;33m\u001b[0m\u001b[0m\n\u001b[0;32m      9\u001b[0m \u001b[1;32mfrom\u001b[0m \u001b[0mselenium\u001b[0m\u001b[1;33m.\u001b[0m\u001b[0mwebdriver\u001b[0m\u001b[1;33m.\u001b[0m\u001b[0msupport\u001b[0m\u001b[1;33m.\u001b[0m\u001b[0mui\u001b[0m \u001b[1;32mimport\u001b[0m \u001b[0mWebDriverWait\u001b[0m\u001b[1;33m\u001b[0m\u001b[1;33m\u001b[0m\u001b[0m\n",
      "\u001b[1;31mModuleNotFoundError\u001b[0m: No module named 'selenium'"
     ]
    }
   ],
   "source": [
    "import datetime\n",
    "import requests\n",
    "\n",
    "from pprint import pprint\n",
    "from bs4 import BeautifulSoup\n",
    "\n",
    "from selenium import webdriver\n",
    "from selenium.webdriver.common.by import By\n",
    "from selenium.webdriver.support.ui import WebDriverWait\n",
    "from selenium.webdriver.support import expected_conditions as EC"
   ]
  },
  {
   "cell_type": "code",
   "execution_count": null,
   "id": "joint-irrigation",
   "metadata": {},
   "outputs": [],
   "source": [
    "driver = webdriver.PhantomJS()\n",
    "driver.get(\"https://www.acmicpc.net/status?problem_id=&user_id=rhyuys115&language_id=-1&result_id=-1\")\n",
    "\n",
    "wait = WebDriverWait(driver, 10)\n",
    "\n",
    "# click proceed\n",
    "proceed = wait.until(EC.presence_of_element_located((By.LINK_TEXT, \"Proceed\")))\n",
    "proceed.click()\n",
    "\n",
    "# wait for the content to be present\n",
    "wait.until(EC.presence_of_element_located((By.ID, \"workskin\")))\n",
    "\n",
    "soup = BeautifulSoup(driver.page_source, \"html.parser\")\n",
    "soup.prettify()"
   ]
  },
  {
   "cell_type": "code",
   "execution_count": 35,
   "id": "historic-medicine",
   "metadata": {
    "ExecuteTime": {
     "end_time": "2021-01-30T06:02:58.555977Z",
     "start_time": "2021-01-30T06:02:58.173076Z"
    }
   },
   "outputs": [
    {
     "name": "stdout",
     "output_type": "stream",
     "text": [
      "None\n"
     ]
    }
   ],
   "source": [
    "selector = '#solution-25830320 > td:nth-child(3) > img'\n",
    "url = 'https://www.acmicpc.net/status?problem_id=&user_id=rhyuys115&language_id=-1&result_id=-1'\n",
    "res = requests.get(url)\n",
    "soup = BeautifulSoup(res.text, 'html.parser')\n",
    "soup = soup.select_one(selector)\n",
    "print(soup)"
   ]
  },
  {
   "cell_type": "code",
   "execution_count": 1,
   "id": "athletic-affiliation",
   "metadata": {
    "ExecuteTime": {
     "end_time": "2021-01-30T07:03:46.222010Z",
     "start_time": "2021-01-30T07:03:46.206019Z"
    }
   },
   "outputs": [],
   "source": [
    "a = {'a': 'asdf', 'b': 'qwer', 'c': 'wret'}"
   ]
  },
  {
   "cell_type": "code",
   "execution_count": 2,
   "id": "breathing-research",
   "metadata": {
    "ExecuteTime": {
     "end_time": "2021-01-30T07:03:51.280611Z",
     "start_time": "2021-01-30T07:03:51.093724Z"
    }
   },
   "outputs": [
    {
     "ename": "TypeError",
     "evalue": "unhashable type: 'slice'",
     "output_type": "error",
     "traceback": [
      "\u001b[1;31m---------------------------------------------------------------------------\u001b[0m",
      "\u001b[1;31mTypeError\u001b[0m                                 Traceback (most recent call last)",
      "\u001b[1;32m<ipython-input-2-ec37670f6ca7>\u001b[0m in \u001b[0;36m<module>\u001b[1;34m\u001b[0m\n\u001b[1;32m----> 1\u001b[1;33m \u001b[0ma\u001b[0m\u001b[1;33m[\u001b[0m\u001b[1;33m:\u001b[0m\u001b[1;33m-\u001b[0m\u001b[1;36m1\u001b[0m\u001b[1;33m]\u001b[0m\u001b[1;33m\u001b[0m\u001b[1;33m\u001b[0m\u001b[0m\n\u001b[0m",
      "\u001b[1;31mTypeError\u001b[0m: unhashable type: 'slice'"
     ]
    }
   ],
   "source": [
    "a[:-1]"
   ]
  },
  {
   "cell_type": "code",
   "execution_count": 3,
   "id": "severe-delight",
   "metadata": {
    "ExecuteTime": {
     "end_time": "2021-01-30T07:26:22.743907Z",
     "start_time": "2021-01-30T07:26:22.738910Z"
    }
   },
   "outputs": [],
   "source": [
    "import datetime"
   ]
  },
  {
   "cell_type": "code",
   "execution_count": 11,
   "id": "civil-japan",
   "metadata": {
    "ExecuteTime": {
     "end_time": "2021-01-30T07:27:11.972218Z",
     "start_time": "2021-01-30T07:27:11.958229Z"
    }
   },
   "outputs": [
    {
     "data": {
      "text/plain": [
       "0"
      ]
     },
     "execution_count": 11,
     "metadata": {},
     "output_type": "execute_result"
    }
   ],
   "source": [
    "a = datetime.datetime(1998, 8, 9)\n",
    "a.hour"
   ]
  },
  {
   "cell_type": "code",
   "execution_count": 12,
   "id": "departmental-promotion",
   "metadata": {
    "ExecuteTime": {
     "end_time": "2021-01-30T07:27:35.511796Z",
     "start_time": "2021-01-30T07:27:35.491808Z"
    }
   },
   "outputs": [
    {
     "data": {
      "text/plain": [
       "8"
      ]
     },
     "execution_count": 12,
     "metadata": {},
     "output_type": "execute_result"
    }
   ],
   "source": [
    "int('08')"
   ]
  },
  {
   "cell_type": "code",
   "execution_count": 14,
   "id": "double-harvey",
   "metadata": {
    "ExecuteTime": {
     "end_time": "2021-01-30T07:40:18.657841Z",
     "start_time": "2021-01-30T07:40:18.638851Z"
    }
   },
   "outputs": [
    {
     "data": {
      "text/plain": [
       "datetime.datetime(2021, 1, 28, 20, 56)"
      ]
     },
     "execution_count": 14,
     "metadata": {},
     "output_type": "execute_result"
    }
   ],
   "source": [
    "import datetime\n",
    "solved_time = '2021-01-28 20:56:53'\n",
    "year, month, day, hour, minute = map(int, [solved_time[:4], solved_time[5:7], solved_time[8:10], solved_time[-8:-6], solved_time[-5:-3]])\n",
    "a = datetime.datetime(year, month, day, hour, minute)\n",
    "a"
   ]
  },
  {
   "cell_type": "code",
   "execution_count": 15,
   "id": "empirical-teacher",
   "metadata": {
    "ExecuteTime": {
     "end_time": "2021-01-30T07:40:23.434883Z",
     "start_time": "2021-01-30T07:40:23.418893Z"
    }
   },
   "outputs": [
    {
     "data": {
      "text/plain": [
       "20"
      ]
     },
     "execution_count": 15,
     "metadata": {},
     "output_type": "execute_result"
    }
   ],
   "source": [
    "a.hour"
   ]
  },
  {
   "cell_type": "markdown",
   "id": "dramatic-brief",
   "metadata": {},
   "source": [
    "# datetime test"
   ]
  },
  {
   "cell_type": "code",
   "execution_count": 7,
   "id": "metropolitan-sample",
   "metadata": {
    "ExecuteTime": {
     "end_time": "2021-02-01T11:22:50.814721Z",
     "start_time": "2021-02-01T11:22:50.797732Z"
    }
   },
   "outputs": [
    {
     "data": {
      "text/plain": [
       "datetime.date(2021, 2, 1)"
      ]
     },
     "execution_count": 7,
     "metadata": {},
     "output_type": "execute_result"
    }
   ],
   "source": [
    "import datetime\n",
    "d = datetime.date.today().day - 1\n",
    "nday = datetime.date.today() - datetime.timedelta(days=d)\n",
    "nday"
   ]
  },
  {
   "cell_type": "code",
   "execution_count": null,
   "id": "precise-vatican",
   "metadata": {},
   "outputs": [],
   "source": []
  }
 ],
 "metadata": {
  "kernelspec": {
   "display_name": "Python 3",
   "language": "python",
   "name": "python3"
  },
  "language_info": {
   "codemirror_mode": {
    "name": "ipython",
    "version": 3
   },
   "file_extension": ".py",
   "mimetype": "text/x-python",
   "name": "python",
   "nbconvert_exporter": "python",
   "pygments_lexer": "ipython3",
   "version": "3.8.7"
  },
  "toc": {
   "base_numbering": 1,
   "nav_menu": {},
   "number_sections": true,
   "sideBar": true,
   "skip_h1_title": false,
   "title_cell": "Table of Contents",
   "title_sidebar": "Contents",
   "toc_cell": false,
   "toc_position": {},
   "toc_section_display": true,
   "toc_window_display": false
  }
 },
 "nbformat": 4,
 "nbformat_minor": 5
}
