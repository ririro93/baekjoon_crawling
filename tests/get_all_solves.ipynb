{
 "cells": [
  {
   "cell_type": "markdown",
   "id": "correct-lobby",
   "metadata": {},
   "source": [
    "# get all the past solves of a member"
   ]
  },
  {
   "cell_type": "code",
   "execution_count": 47,
   "id": "parliamentary-consolidation",
   "metadata": {
    "ExecuteTime": {
     "end_time": "2021-02-11T08:59:30.074007Z",
     "start_time": "2021-02-11T08:59:30.056006Z"
    }
   },
   "outputs": [],
   "source": [
    "import requests\n",
    "from bs4 import BeautifulSoup\n",
    "import concurrent.futures\n",
    "\n",
    "class AllSolves():\n",
    "    profile_URL = 'https://www.acmicpc.net/user/'\n",
    "    profile_selector = 'body > div.wrapper > div.container.content > div.row > div:nth-child(2) > div > div.col-md-9 > div:nth-child(1) > div.panel-body'\n",
    "    \n",
    "    def __init__(self, user_id):\n",
    "        self.MAX_THREADS = 30\n",
    "        self.user_id = user_id\n",
    "        self.prob_nums = []\n",
    "        self.solves_data = []\n",
    "    \n",
    "    def get_prob_nums(self):\n",
    "        user_URL = self.profile_URL + self.user_id\n",
    "        res = requests.get(user_URL)\n",
    "        soup = BeautifulSoup(res.text, 'html.parser')\n",
    "        soup = soup.select_one(self.profile_selector)\n",
    "        solved_probs_atags = soup.find_all('a')\n",
    "        for solved_probs_atag in solved_probs_atags:\n",
    "            self.prob_nums.append(solved_probs_atag.text)\n",
    "        return 'solved problem numbers recorded'\n",
    "    \n",
    "    def get_solves_data(self, prob_num):\n",
    "        solve_URL = f'https://www.acmicpc.net/status?problem_id={prob_num}&user_id={self.user_id}&language_id=-1&result_id=-1'\n",
    "        solve_selector = '#status-table > tbody'\n",
    "        res = requests.get(solve_URL)\n",
    "        soup = BeautifulSoup(res.text, 'html.parser')\n",
    "        soup = soup.select_one(solve_selector)\n",
    "        solved_probs_tr_tags = soup.find_all('tr')\n",
    "        for solved_probs_tr_tag in solved_probs_tr_tags:\n",
    "            result_span = solved_probs_tr_tag.select_one('span', {'class': 'result-ac'})      \n",
    "            if result_span:\n",
    "                q = solved_probs_tr_tag.find('a', {'class': 'problem_title'})\n",
    "                q_title = q.get('title')\n",
    "                q_num = q.text\n",
    "                solved_time = solved_probs_tr_tag.find('a', {'class': 'real-time-update'}).get('title')\n",
    "                q_info_dict = {\n",
    "                    'question_title': q_title,\n",
    "                    'question_number': q_num,\n",
    "                    'question_site': 'B',\n",
    "                    'solved_time': solved_time,                \n",
    "                }\n",
    "                self.solves_data.append(q_info_dict)\n",
    "                break\n",
    "        return 'solved problem data recorded'\n",
    "    \n",
    "    def multi_threading(self):\n",
    "        print(self.get_prob_nums())\n",
    "        threads = min(self.MAX_THREADS, len(self.prob_nums))\n",
    "        with concurrent.futures.ThreadPoolExecutor(max_workers=threads) as executor:\n",
    "            executor.map(self.get_solves_data, self.prob_nums)\n",
    "    \n",
    "    def get_result(self):\n",
    "        return self.solves_data"
   ]
  },
  {
   "cell_type": "code",
   "execution_count": 48,
   "id": "dying-hostel",
   "metadata": {
    "ExecuteTime": {
     "end_time": "2021-02-11T08:59:37.199476Z",
     "start_time": "2021-02-11T08:59:30.606620Z"
    }
   },
   "outputs": [
    {
     "name": "stdout",
     "output_type": "stream",
     "text": [
      "solved problem numbers recorded\n"
     ]
    }
   ],
   "source": [
    "allsolves = AllSolves('ririro93')\n",
    "allsolves.multi_threading()\n",
    "results = allsolves.get_result()"
   ]
  },
  {
   "cell_type": "code",
   "execution_count": 49,
   "id": "signal-rochester",
   "metadata": {
    "ExecuteTime": {
     "end_time": "2021-02-11T08:59:39.847519Z",
     "start_time": "2021-02-11T08:59:39.836519Z"
    }
   },
   "outputs": [
    {
     "name": "stdout",
     "output_type": "stream",
     "text": [
      "[{'question_title': 'A/B', 'question_number': '1008', 'question_site': 'B', 'solved_time': '2019-11-23 17:54:32'}, {'question_title': 'A+B', 'question_number': '1000', 'question_site': 'B', 'solved_time': '2020-01-21 22:55:34'}, {'question_title': '회전하는 큐', 'question_number': '1021', 'question_site': 'B', 'solved_time': '2020-01-25 11:28:15'}, {'question_title': '단어의 개수', 'question_number': '1152', 'question_site': 'B', 'solved_time': '2021-02-04 23:50:58'}, {'question_title': 'RGB거리', 'question_number': '1149', 'question_site': 'B', 'solved_time': '2020-08-12 23:14:34'}, {'question_title': '요세푸스 문제', 'question_number': '1158', 'question_site': 'B', 'solved_time': '2020-08-01 20:02:50'}, {'question_title': '동물원', 'question_number': '1309', 'question_site': 'B', 'solved_time': '2020-08-12 23:42:14'}, {'question_title': '8진수 2진수', 'question_number': '1212', 'question_site': 'B', 'solved_time': '2020-08-09 13:02:46'}, {'question_title': '에디터', 'question_number': '1406', 'question_site': 'B', 'solved_time': '2020-08-18 16:45:22'}, {'question_title': '부분수열의 합', 'question_number': '1182', 'question_site': 'B', 'solved_time': '2020-07-24 16:09:32'}, {'question_title': '숨바꼭질', 'question_number': '1697', 'question_site': 'B', 'solved_time': '2020-02-05 20:02:22'}, {'question_title': '1로 만들기', 'question_number': '1463', 'question_site': 'B', 'solved_time': '2020-08-19 00:27:50'}, {'question_title': '맞춰봐', 'question_number': '1248', 'question_site': 'B', 'solved_time': '2020-08-31 20:01:22'}, {'question_title': '유기농 배추', 'question_number': '1012', 'question_site': 'B', 'solved_time': '2020-01-28 23:21:11'}, {'question_title': '리모컨', 'question_number': '1107', 'question_site': 'B', 'solved_time': '2020-08-24 15:48:44'}, {'question_title': 'DFS와 BFS', 'question_number': '1260', 'question_site': 'B', 'solved_time': '2021-01-04 22:00:20'}, {'question_title': '수 이어 쓰기 1', 'question_number': '1748', 'question_site': 'B', 'solved_time': '2020-08-24 18:22:11'}, {'question_title': '듣보잡', 'question_number': '1764', 'question_site': 'B', 'solved_time': '2021-01-20 21:01:58'}, {'question_title': '두 수 비교하기', 'question_number': '1330', 'question_site': 'B', 'solved_time': '2019-11-21 16:25:49'}, {'question_title': '손익분기점', 'question_number': '1712', 'question_site': 'B', 'solved_time': '2019-11-23 19:50:22'}, {'question_title': '날짜 계산', 'question_number': '1476', 'question_site': 'B', 'solved_time': '2020-07-19 13:54:51'}, {'question_title': '팩토리얼 0의 개수', 'question_number': '1676', 'question_site': 'B', 'solved_time': '2020-08-18 21:54:35'}, {'question_title': '스택 수열', 'question_number': '1874', 'question_site': 'B', 'solved_time': '2020-08-18 16:22:44'}, {'question_title': '압축', 'question_number': '1662', 'question_site': 'B', 'solved_time': '2021-01-28 22:06:30'}, {'question_title': '나는야 포켓몬 마스터 이다솜', 'question_number': '1620', 'question_site': 'B', 'solved_time': '2021-01-20 20:52:51'}, {'question_title': '연속합', 'question_number': '1912', 'question_site': 'B', 'solved_time': '2020-08-19 03:13:13'}, {'question_title': '암호 만들기', 'question_number': '1759', 'question_site': 'B', 'solved_time': '2020-07-24 10:40:39'}, {'question_title': '2진수 8진수', 'question_number': '1373', 'question_site': 'B', 'solved_time': '2020-08-09 12:50:19'}, {'question_title': '이분 그래프', 'question_number': '1707', 'question_site': 'B', 'solved_time': '2021-01-09 12:27:19'}, {'question_title': '제곱수의 합', 'question_number': '1699', 'question_site': 'B', 'solved_time': '2020-08-19 06:00:27'}, {'question_title': '후위 표기식', 'question_number': '1918', 'question_site': 'B', 'solved_time': '2020-08-07 23:00:08'}, {'question_title': '애너그램 만들기', 'question_number': '1919', 'question_site': 'B', 'solved_time': '2021-02-03 23:47:19'}, {'question_title': '최소 힙', 'question_number': '1927', 'question_site': 'B', 'solved_time': '2021-01-20 20:38:55'}, {'question_title': '소수 찾기', 'question_number': '1978', 'question_site': 'B', 'solved_time': '2020-07-17 10:36:40'}, {'question_title': '분해합', 'question_number': '2231', 'question_site': 'B', 'solved_time': '2021-02-01 23:00:09'}, {'question_title': '이친수', 'question_number': '2193', 'question_site': 'B', 'solved_time': '2020-08-10 19:38:26'}, {'question_title': '미로 탐색', 'question_number': '2178', 'question_site': 'B', 'solved_time': '2020-01-28 20:19:23'}, {'question_title': '괄호의 값', 'question_number': '2504', 'question_site': 'B', 'solved_time': '2021-01-26 00:30:38'}, {'question_title': '2차원 배열의 합', 'question_number': '2167', 'question_site': 'B', 'solved_time': '2021-01-21 11:18:40'}, {'question_title': '풍선 터뜨리기', 'question_number': '2346', 'question_site': 'B', 'solved_time': '2021-02-10 21:18:17'}, {'question_title': '소수 구하기', 'question_number': '1929', 'question_site': 'B', 'solved_time': '2020-08-08 09:26:55'}, {'question_title': '조합 0의 개수', 'question_number': '2004', 'question_site': 'B', 'solved_time': '2020-08-08 18:14:07'}, {'question_title': '포도주 시식', 'question_number': '2156', 'question_site': 'B', 'solved_time': '2020-08-13 19:33:34'}, {'question_title': '타일 채우기', 'question_number': '2133', 'question_site': 'B', 'solved_time': '2020-08-16 23:31:14'}, {'question_title': '다리 만들기', 'question_number': '2146', 'question_site': 'B', 'solved_time': '2020-02-02 15:57:27'}, {'question_title': '동전', 'question_number': '2091', 'question_site': 'B', 'solved_time': '2021-01-23 15:04:42'}, {'question_title': '후위 표기식2', 'question_number': '1935', 'question_site': 'B', 'solved_time': '2020-08-04 09:58:55'}, {'question_title': '일곱 난쟁이', 'question_number': '2309', 'question_site': 'B', 'solved_time': '2020-07-19 13:18:55'}, {'question_title': '안전 영역', 'question_number': '2468', 'question_site': 'B', 'solved_time': '2020-02-02 09:08:06'}, {'question_title': '-2진수', 'question_number': '2089', 'question_site': 'B', 'solved_time': '2020-08-09 19:09:37'}, {'question_title': 'Hello World', 'question_number': '2557', 'question_site': 'B', 'solved_time': '2019-11-19 20:45:32'}, {'question_title': '정수 삼각형', 'question_number': '1932', 'question_site': 'B', 'solved_time': '2020-08-13 20:26:58'}, {'question_title': '부등호', 'question_number': '2529', 'question_site': 'B', 'solved_time': '2020-08-31 15:50:32'}, {'question_title': '합분해', 'question_number': '2225', 'question_site': 'B', 'solved_time': '2020-08-19 13:38:39'}, {'question_title': '로프', 'question_number': '2217', 'question_site': 'B', 'solved_time': '2021-01-29 22:54:06'}, {'question_title': '동전 1', 'question_number': '2293', 'question_site': 'B', 'solved_time': '2021-01-11 20:39:10'}, {'question_title': '그림', 'question_number': '1926', 'question_site': 'B', 'solved_time': '2020-02-01 08:47:56'}, {'question_title': '최소공배수', 'question_number': '1934', 'question_site': 'B', 'solved_time': '2020-07-17 10:02:48'}, {'question_title': '벽 부수고 이동하기', 'question_number': '2206', 'question_site': 'B', 'solved_time': '2021-01-06 22:06:34'}, {'question_title': '동전 2', 'question_number': '2294', 'question_site': 'B', 'solved_time': '2021-01-11 22:10:55'}, {'question_title': '기찍 N', 'question_number': '2742', 'question_site': 'B', 'solved_time': '2020-01-18 20:40:09'}, {'question_title': '단어 길이 재기', 'question_number': '2743', 'question_site': 'B', 'solved_time': '2020-08-08 08:25:38'}, {'question_title': '좋은 친구', 'question_number': '3078', 'question_site': 'B', 'solved_time': '2021-01-22 23:13:41'}, {'question_title': '사탕 게임', 'question_number': '3085', 'question_site': 'B', 'solved_time': '2020-08-20 07:56:41'}, {'question_title': '바이러스', 'question_number': '2606', 'question_site': 'B', 'solved_time': '2021-01-05 00:07:29'}, {'question_title': '곱셈', 'question_number': '2588', 'question_site': 'B', 'solved_time': '2019-11-23 19:16:41'}, {'question_title': '달팽이는 올라가고 싶다', 'question_number': '2869', 'question_site': 'B', 'solved_time': '2021-01-21 11:43:11'}, {'question_title': '균형잡힌 세상', 'question_number': '4949', 'question_site': 'B', 'solved_time': '2021-01-22 21:34:38'}, {'question_title': '로또', 'question_number': '6603', 'question_site': 'B', 'solved_time': '2020-07-21 15:45:18'}, {'question_title': '진법 변환', 'question_number': '2745', 'question_site': 'B', 'solved_time': '2020-08-09 22:29:07'}, {'question_title': '첫 글자를 대문자로', 'question_number': '4458', 'question_site': 'B', 'solved_time': '2021-02-05 23:34:17'}, {'question_title': '토마토', 'question_number': '7576', 'question_site': 'B', 'solved_time': '2020-02-01 13:39:47'}, {'question_title': '상범 빌딩', 'question_number': '6593', 'question_site': 'B', 'solved_time': '2020-02-02 13:53:35'}, {'question_title': '골드바흐의 추측', 'question_number': '6588', 'question_site': 'B', 'solved_time': '2020-07-21 13:30:35'}, {'question_title': '윤년', 'question_number': '2753', 'question_site': 'B', 'solved_time': '2019-11-23 19:39:53'}, {'question_title': '토마토', 'question_number': '7569', 'question_site': 'B', 'solved_time': '2020-02-01 14:27:56'}, {'question_title': '불', 'question_number': '5427', 'question_site': 'B', 'solved_time': '2021-01-21 22:47:24'}, {'question_title': '알람 시계', 'question_number': '2884', 'question_site': 'B', 'solved_time': '2019-11-21 16:01:11'}, {'question_title': '촌수계산', 'question_number': '2644', 'question_site': 'B', 'solved_time': '2021-01-21 11:04:21'}, {'question_title': '카잉 달력', 'question_number': '6064', 'question_site': 'B', 'solved_time': '2020-08-24 17:58:37'}, {'question_title': '최대공약수와 최소공배수', 'question_number': '2609', 'question_site': 'B', 'solved_time': '2020-08-18 21:32:57'}, {'question_title': '단지번호붙이기', 'question_number': '2667', 'question_site': 'B', 'solved_time': '2020-02-01 14:49:01'}, {'question_title': '나이트의 이동', 'question_number': '7562', 'question_site': 'B', 'solved_time': '2021-01-05 13:39:15'}, {'question_title': '회사에 있는 사람', 'question_number': '7785', 'question_site': 'B', 'solved_time': '2021-01-31 02:08:14'}, {'question_title': '구구단', 'question_number': '2739', 'question_site': 'B', 'solved_time': '2019-11-23 18:08:12'}, {'question_title': '스타트링크', 'question_number': '5014', 'question_site': 'B', 'solved_time': '2020-02-02 10:23:56'}, {'question_title': '영역 구하기', 'question_number': '2583', 'question_site': 'B', 'solved_time': '2021-01-05 12:28:41'}, {'question_title': '숫자의 개수', 'question_number': '2577', 'question_site': 'B', 'solved_time': '2020-01-21 23:17:07'}, {'question_title': '불!', 'question_number': '4179', 'question_site': 'B', 'solved_time': '2021-01-22 18:17:09'}, {'question_title': '크로아티아 알파벳', 'question_number': '2941', 'question_site': 'B', 'solved_time': '2020-09-26 22:47:21'}, {'question_title': '합', 'question_number': '8393', 'question_site': 'B', 'solved_time': '2019-11-23 19:04:22'}, {'question_title': '단어 뒤집기', 'question_number': '9093', 'question_site': 'B', 'solved_time': '2020-07-31 15:38:51'}, {'question_title': '스티커', 'question_number': '9465', 'question_site': 'B', 'solved_time': '2020-08-13 18:45:03'}, {'question_title': '패션왕 신해빈', 'question_number': '9375', 'question_site': 'B', 'solved_time': '2021-01-20 19:50:20'}, {'question_title': 'GCD 합', 'question_number': '9613', 'question_site': 'B', 'solved_time': '2020-07-17 10:22:38'}, {'question_title': '개수 세기', 'question_number': '10807', 'question_site': 'B', 'solved_time': '2020-01-24 08:45:12'}, {'question_title': '쉬운 계단 수', 'question_number': '10844', 'question_site': 'B', 'solved_time': '2020-08-10 19:17:20'}, {'question_title': '개', 'question_number': '10172', 'question_site': 'B', 'solved_time': '2019-11-23 19:54:39'}, {'question_title': 'We love kriii', 'question_number': '10718', 'question_site': 'B', 'solved_time': '2019-11-20 11:10:46'}, {'question_title': '적록색약', 'question_number': '10026', 'question_site': 'B', 'solved_time': '2020-02-01 23:48:13'}, {'question_title': '알파벳 개수', 'question_number': '10808', 'question_site': 'B', 'solved_time': '2020-01-24 09:20:25'}, {'question_title': '알파벳 찾기', 'question_number': '10809', 'question_site': 'B', 'solved_time': '2020-08-07 23:32:56'}, {'question_title': '나머지', 'question_number': '10430', 'question_site': 'B', 'solved_time': '2020-07-16 16:09:15'}, {'question_title': '맥주 마시면서 걸어가기', 'question_number': '9205', 'question_site': 'B', 'solved_time': '2021-01-21 21:26:00'}, {'question_title': '고양이', 'question_number': '10171', 'question_site': 'B', 'solved_time': '2020-01-21 22:58:11'}, {'question_title': '쇠막대기', 'question_number': '10799', 'question_site': 'B', 'solved_time': '2020-01-27 09:22:18'}, {'question_title': '덱', 'question_number': '10866', 'question_site': 'B', 'solved_time': '2020-01-24 20:36:28'}, {'question_title': 'A+B - 4', 'question_number': '10951', 'question_site': 'B', 'solved_time': '2020-01-18 20:55:24'}, {'question_title': 'Party Invitation', 'question_number': '10104', 'question_site': 'B', 'solved_time': '2021-02-08 19:59:04'}, {'question_title': '괄호', 'question_number': '9012', 'question_site': 'B', 'solved_time': '2020-08-18 13:49:42'}, {'question_title': '네 수', 'question_number': '10824', 'question_site': 'B', 'solved_time': '2020-08-08 08:49:16'}, {'question_title': '스택', 'question_number': '10828', 'question_site': 'B', 'solved_time': '2020-01-24 16:03:05'}, {'question_title': '팩토리얼', 'question_number': '10872', 'question_site': 'B', 'solved_time': '2020-08-08 09:33:29'}, {'question_title': '사칙연산', 'question_number': '10869', 'question_site': 'B', 'solved_time': '2020-01-21 22:52:23'}, {'question_title': '제로', 'question_number': '10773', 'question_site': 'B', 'solved_time': '2021-01-21 20:56:32'}, {'question_title': '문자열 분석', 'question_number': '10820', 'question_site': 'B', 'solved_time': '2020-08-07 23:59:16'}, {'question_title': '최소, 최대', 'question_number': '10818', 'question_site': 'B', 'solved_time': '2019-11-24 10:52:41'}, {'question_title': '전자레인지', 'question_number': '10162', 'question_site': 'B', 'solved_time': '2021-01-21 13:37:28'}, {'question_title': '세 수', 'question_number': '10817', 'question_site': 'B', 'solved_time': '2019-11-23 18:58:13'}, {'question_title': '시험 성적', 'question_number': '9498', 'question_site': 'B', 'solved_time': '2019-11-23 19:32:01'}, {'question_title': '1, 2, 3 더하기', 'question_number': '9095', 'question_site': 'B', 'solved_time': '2020-07-19 14:47:36'}, {'question_title': '차이를 최대로', 'question_number': '10819', 'question_site': 'B', 'solved_time': '2020-07-21 14:52:00'}, {'question_title': '큐', 'question_number': '10845', 'question_site': 'B', 'solved_time': '2020-01-24 15:36:29'}, {'question_title': 'A+B - 5', 'question_number': '10952', 'question_site': 'B', 'solved_time': '2019-11-24 10:37:17'}, {'question_title': '이전 순열', 'question_number': '10973', 'question_site': 'B', 'solved_time': '2020-07-21 14:11:56'}, {'question_title': '동전 0', 'question_number': '11047', 'question_site': 'B', 'solved_time': '2021-01-10 21:18:51'}, {'question_title': '모든 순열', 'question_number': '10974', 'question_site': 'B', 'solved_time': '2020-07-21 14:40:12'}, {'question_title': '다음 순열', 'question_number': '10972', 'question_site': 'B', 'solved_time': '2020-07-20 14:45:58'}, {'question_title': '외판원 순회 2', 'question_number': '10971', 'question_site': 'B', 'solved_time': '2020-07-21 15:29:06'}, {'question_title': '가장 큰 증가 부분 수열', 'question_number': '11055', 'question_site': 'B', 'solved_time': '2020-08-14 18:22:50'}, {'question_title': 'ROT13', 'question_number': '11655', 'question_site': 'B', 'solved_time': '2020-08-08 08:37:52'}, {'question_title': '최대 힙', 'question_number': '11279', 'question_site': 'B', 'solved_time': '2021-01-30 23:10:51'}, {'question_title': 'Strfry', 'question_number': '11328', 'question_site': 'B', 'solved_time': '2021-02-09 23:49:49'}, {'question_title': '종이 조각', 'question_number': '14391', 'question_site': 'B', 'solved_time': '2020-09-18 23:01:32'}, {'question_title': '가장 긴 바이토닉 부분 수열', 'question_number': '11054', 'question_site': 'B', 'solved_time': '2020-08-14 20:06:05'}, {'question_title': '카드 구매하기', 'question_number': '11052', 'question_site': 'B', 'solved_time': '2020-08-10 15:22:12'}, {'question_title': '가장 긴 증가하는 부분 수열 4', 'question_number': '14002', 'question_site': 'B', 'solved_time': '2020-08-19 01:15:03'}, {'question_title': '퇴사', 'question_number': '14501', 'question_site': 'B', 'solved_time': '2020-07-24 19:42:17'}, {'question_title': '2×n 타일링', 'question_number': '11726', 'question_site': 'B', 'solved_time': '2020-08-10 13:28:38'}, {'question_title': '오르막 수', 'question_number': '11057', 'question_site': 'B', 'solved_time': '2020-08-13 18:18:54'}, {'question_title': '가장 긴 증가하는 부분 수열', 'question_number': '11053', 'question_site': 'B', 'solved_time': '2020-08-10 22:28:03'}, {'question_title': '가장 긴 감소하는 부분 수열', 'question_number': '11722', 'question_site': 'B', 'solved_time': '2020-08-14 18:32:08'}, {'question_title': '집합', 'question_number': '11723', 'question_site': 'B', 'solved_time': '2020-07-28 20:38:21'}, {'question_title': '하노이 탑 이동 순서', 'question_number': '11729', 'question_site': 'B', 'solved_time': '2021-01-21 17:54:01'}, {'question_title': '2×n 타일링 2', 'question_number': '11727', 'question_site': 'B', 'solved_time': '2020-08-10 14:03:40'}, {'question_title': '진법 변환 2', 'question_number': '11005', 'question_site': 'B', 'solved_time': '2020-08-09 22:09:29'}, {'question_title': '연결 요소의 개수', 'question_number': '11724', 'question_site': 'B', 'solved_time': '2021-01-04 23:46:42'}, {'question_title': '소인수분해', 'question_number': '11653', 'question_site': 'B', 'solved_time': '2020-08-09 22:49:22'}, {'question_title': '테트로미노', 'question_number': '14500', 'question_site': 'B', 'solved_time': '2020-07-19 13:59:03'}, {'question_title': '접미사 배열', 'question_number': '11656', 'question_site': 'B', 'solved_time': '2020-08-08 08:59:52'}, {'question_title': '연산자 끼워넣기', 'question_number': '14888', 'question_site': 'B', 'solved_time': '2020-07-23 14:20:36'}, {'question_title': '연속합 2', 'question_number': '13398', 'question_site': 'B', 'solved_time': '2020-08-16 22:11:18'}, {'question_title': 'Base Conversion', 'question_number': '11576', 'question_site': 'B', 'solved_time': '2020-08-09 22:38:47'}, {'question_title': '스타트와 링크', 'question_number': '14889', 'question_site': 'B', 'solved_time': '2020-08-30 22:21:28'}, {'question_title': '평범한 배낭', 'question_number': '12865', 'question_site': 'B', 'solved_time': '2021-01-25 22:14:02'}, {'question_title': 'N과 M (2)', 'question_number': '15650', 'question_site': 'B', 'solved_time': '2020-08-30 12:19:54'}, {'question_title': 'N과 M (5)', 'question_number': '15654', 'question_site': 'B', 'solved_time': '2020-08-30 13:05:02'}, {'question_title': 'N과 M (3)', 'question_number': '15651', 'question_site': 'B', 'solved_time': '2020-08-30 12:46:05'}, {'question_title': 'N과 M (4)', 'question_number': '15652', 'question_site': 'B', 'solved_time': '2020-08-30 12:59:39'}, {'question_title': 'N과 M (1)', 'question_number': '15649', 'question_site': 'B', 'solved_time': '2020-08-29 22:33:19'}, {'question_title': '1, 2, 3 더하기 5', 'question_number': '15990', 'question_site': 'B', 'solved_time': '2020-08-10 18:22:38'}, {'question_title': 'N과 M (12)', 'question_number': '15666', 'question_site': 'B', 'solved_time': '2020-08-30 21:46:13'}, {'question_title': '귀찮음', 'question_number': '16208', 'question_site': 'B', 'solved_time': '2021-01-21 16:12:24'}, {'question_title': '오큰수', 'question_number': '17298', 'question_site': 'B', 'solved_time': '2020-08-18 20:23:38'}, {'question_title': '골드바흐 파티션', 'question_number': '17103', 'question_site': 'B', 'solved_time': '2020-08-09 21:54:30'}, {'question_title': '오등큰수', 'question_number': '17299', 'question_site': 'B', 'solved_time': '2020-08-03 23:43:05'}, {'question_title': 'N과 M (6)', 'question_number': '15655', 'question_site': 'B', 'solved_time': '2020-08-30 13:07:01'}, {'question_title': '늑대와 양', 'question_number': '16956', 'question_site': 'B', 'solved_time': '2021-01-20 19:29:57'}, {'question_title': 'N과 M (8)', 'question_number': '15657', 'question_site': 'B', 'solved_time': '2020-08-30 13:14:37'}, {'question_title': '1, 2, 3 더하기 3', 'question_number': '15988', 'question_site': 'B', 'solved_time': '2020-08-12 19:36:45'}, {'question_title': 'N과 M (9)', 'question_number': '15663', 'question_site': 'B', 'solved_time': '2020-08-30 13:30:33'}, {'question_title': 'N과 M (11)', 'question_number': '15665', 'question_site': 'B', 'solved_time': '2020-08-30 21:41:51'}, {'question_title': '카드 구매하기 2', 'question_number': '16194', 'question_site': 'B', 'solved_time': '2020-08-10 15:45:29'}, {'question_title': 'RGB거리 2', 'question_number': '17404', 'question_site': 'B', 'solved_time': '2020-08-18 08:01:43'}, {'question_title': '링크와 스타트', 'question_number': '15661', 'question_site': 'B', 'solved_time': '2020-08-30 22:28:55'}, {'question_title': '단어 뒤집기 2', 'question_number': '17413', 'question_site': 'B', 'solved_time': '2020-08-03 14:06:40'}, {'question_title': '연산자 끼워넣기 (2)', 'question_number': '15658', 'question_site': 'B', 'solved_time': '2020-07-31 13:55:13'}, {'question_title': 'N과 M (7)', 'question_number': '15656', 'question_site': 'B', 'solved_time': '2020-08-30 13:12:32'}, {'question_title': '숨바꼭질 6', 'question_number': '17087', 'question_site': 'B', 'solved_time': '2020-08-08 23:32:11'}, {'question_title': 'N과 M (10)', 'question_number': '15664', 'question_site': 'B', 'solved_time': '2020-08-30 21:34:04'}]\n",
      "180\n"
     ]
    }
   ],
   "source": [
    "print(results)\n",
    "print(len(results))"
   ]
  },
  {
   "cell_type": "code",
   "execution_count": null,
   "id": "bearing-roulette",
   "metadata": {},
   "outputs": [],
   "source": []
  }
 ],
 "metadata": {
  "kernelspec": {
   "display_name": "Python 3",
   "language": "python",
   "name": "python3"
  },
  "language_info": {
   "codemirror_mode": {
    "name": "ipython",
    "version": 3
   },
   "file_extension": ".py",
   "mimetype": "text/x-python",
   "name": "python",
   "nbconvert_exporter": "python",
   "pygments_lexer": "ipython3",
   "version": "3.8.7"
  },
  "toc": {
   "base_numbering": 1,
   "nav_menu": {},
   "number_sections": true,
   "sideBar": true,
   "skip_h1_title": false,
   "title_cell": "Table of Contents",
   "title_sidebar": "Contents",
   "toc_cell": false,
   "toc_position": {},
   "toc_section_display": true,
   "toc_window_display": false
  }
 },
 "nbformat": 4,
 "nbformat_minor": 5
}
