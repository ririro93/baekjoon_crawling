{
 "cells": [
  {
   "cell_type": "code",
   "execution_count": 1,
   "id": "impressed-announcement",
   "metadata": {
    "ExecuteTime": {
     "end_time": "2021-01-29T11:47:35.574267Z",
     "start_time": "2021-01-29T11:47:35.206883Z"
    }
   },
   "outputs": [],
   "source": [
    "import datetime\n",
    "import pytz\n",
    "import requests\n",
    "\n",
    "from pprint import pprint\n",
    "from bs4 import BeautifulSoup"
   ]
  },
  {
   "cell_type": "code",
   "execution_count": 26,
   "id": "burning-malawi",
   "metadata": {
    "ExecuteTime": {
     "end_time": "2021-01-29T12:00:25.122445Z",
     "start_time": "2021-01-29T12:00:25.102950Z"
    }
   },
   "outputs": [],
   "source": [
    "class Baekjoon():\n",
    "    \n",
    "    # get today's date\n",
    "    def get_date(self):\n",
    "        now = datetime.datetime.now()\n",
    "        formatted_today = f'{now.year}-{now.month:02}-{now.day:02}'\n",
    "        print(formatted_today)\n",
    "        return formatted_today\n",
    "\n",
    "    # get info from web\n",
    "    def get_info(self, subject, URL, selector):\n",
    "        result = []\n",
    "        res = requests.get(URL)\n",
    "        print(res)\n",
    "        soup = BeautifulSoup(res.text, 'html.parser')\n",
    "        soup = soup.select_one(selector)\n",
    "        # users info\n",
    "        if subject == 'users':\n",
    "            infos = soup.find_all('div', {'class': 'member'})\n",
    "            for info in infos:\n",
    "                result.append(info.h4.a.text)\n",
    "            return result\n",
    "        # problems info\n",
    "        elif subject == 'problems':\n",
    "            infos = soup.find_all('tr')\n",
    "            for info in infos:\n",
    "                result_span = info.find('span', {'class': 'result-ac'})          \n",
    "                # 맞았으면 통째로 반환\n",
    "                if result_span:\n",
    "                    result.append(info)\n",
    "            return result\n",
    "\n",
    "    # get user ids -> returns dictionary of key: user_id ,val: []\n",
    "    def get_user_ids(self):\n",
    "        user_URL = 'https://www.acmicpc.net/group/member/10060'\n",
    "        user_selector = 'body > div.wrapper > div.container.content > div.row > div:nth-child(5)'\n",
    "\n",
    "        user_ids = self.get_info('users', user_URL, user_selector)\n",
    "        print(f'오늘자 서울_1반 알고리즘 스터디 가입자:\\n{user_ids}\\n')\n",
    "\n",
    "        # initialize dictionary to record todays' solves\n",
    "        dic = {}\n",
    "        for user_id in user_ids:\n",
    "            dic[user_id] = []\n",
    "        return user_ids, dic\n",
    "\n",
    "    # get results for each user\n",
    "    def get_all_results(self):\n",
    "        user_ids, user_dict = self.get_user_ids()\n",
    "        formatted_today = self.get_date()\n",
    "        for user_id in user_ids:\n",
    "            grading_URL = f'https://www.acmicpc.net/status?problem_id=&user_id={user_id}&language_id=-1&result_id=-1'\n",
    "            grading_selector = '#status-table > tbody'\n",
    "            prob_infos = self.get_info('problems', grading_URL, grading_selector)\n",
    "        \n",
    "            for prob_info in prob_infos:\n",
    "                prob = prob_info.find('a', {'class': 'problem_title'})\n",
    "                prob_title = prob.get('title')\n",
    "                prob_num = prob.text\n",
    "                date = prob_info.find('a', {'class': 'real-time-update'}).get('title')[:10]\n",
    "                if date == formatted_today:\n",
    "                    pprint(prob_info)\n",
    "                    user_dict[user_id].append((prob_num, prob_title))\n",
    "\n",
    "        # show results\n",
    "        print('오늘 푼 문제 목록:')\n",
    "        pprint(user_dict)\n",
    "        return user_dict"
   ]
  },
  {
   "cell_type": "code",
   "execution_count": 27,
   "id": "continuous-links",
   "metadata": {
    "ExecuteTime": {
     "end_time": "2021-01-29T12:00:25.429558Z",
     "start_time": "2021-01-29T12:00:25.415568Z"
    }
   },
   "outputs": [],
   "source": [
    "baek = Baekjoon()"
   ]
  },
  {
   "cell_type": "code",
   "execution_count": 28,
   "id": "explicit-narrow",
   "metadata": {
    "ExecuteTime": {
     "end_time": "2021-01-29T12:00:31.639847Z",
     "start_time": "2021-01-29T12:00:25.843912Z"
    }
   },
   "outputs": [
    {
     "name": "stdout",
     "output_type": "stream",
     "text": [
      "<Response [200]>\n",
      "오늘자 서울_1반 알고리즘 스터디 가입자:\n",
      "['sungyujeon', 'ririro93', 'jake0403', 'purings210', 'rhyuys115', 'wkd6576', 'lsl031', 'jyk_helia', 'eunheechoi95', 'whiteun', 'edge1994', 'lisagamer']\n",
      "\n",
      "2021-01-29\n",
      "<Response [200]>\n",
      "<Response [200]>\n",
      "<Response [200]>\n",
      "<tr id=\"solution-25791403\"><td>25791403</td><td><a href=\"/user/jake0403\">jake0403</a></td><td><a class=\"problem_title tooltip-click\" data-placement=\"right\" href=\"/problem/10845\" rel=\"tooltip\" title=\"큐\">10845</a></td><td class=\"result\"><span class=\"result-text\"><span class=\"result-ac\">맞았습니다!!</span></span></td><td class=\"memory\">125344<span class=\"kb-text\"></span></td><td class=\"time\">176<span class=\"ms-text\"></span></td><td>PyPy3</td><td>634<span class=\"b-text\"></span></td><td><a class=\"real-time-update show-date\" data-method=\"from-now\" data-placement=\"top\" data-timestamp=\"1611848063\" href=\"javascript:void(0);\" rel=\"tooltip\" title=\"2021-01-29 00:34:23\">20시간 전</a></td></tr>\n",
      "<Response [200]>\n",
      "<tr id=\"solution-25814159\"><td>25814159</td><td><a href=\"/user/purings210\">purings210</a></td><td><a class=\"problem_title tooltip-click\" data-placement=\"right\" href=\"/problem/1152\" rel=\"tooltip\" title=\"단어의 개수\">1152</a></td><td class=\"result\"><span class=\"result-text\"><span class=\"result-ac\">맞았습니다!!</span></span></td><td class=\"memory\">36756<span class=\"kb-text\"></span></td><td class=\"time\">92<span class=\"ms-text\"></span></td><td>Python 3</td><td>56<span class=\"b-text\"></span></td><td><a class=\"real-time-update show-date\" data-method=\"from-now\" data-placement=\"top\" data-timestamp=\"1611911626\" href=\"javascript:void(0);\" rel=\"tooltip\" title=\"2021-01-29 18:13:46\">2시간 전</a></td></tr>\n",
      "<Response [200]>\n",
      "<Response [200]>\n",
      "<Response [200]>\n",
      "<Response [200]>\n",
      "<tr id=\"solution-25816326\"><td>25816326</td><td><a href=\"/user/jyk_helia\">jyk_helia</a></td><td><a class=\"problem_title tooltip-click\" data-placement=\"right\" href=\"/problem/1330\" rel=\"tooltip\" title=\"두 수 비교하기\">1330</a></td><td class=\"result\"><span class=\"result-text\"><span class=\"result-ac\">맞았습니다!!</span></span></td><td class=\"memory\">28776<span class=\"kb-text\"></span></td><td class=\"time\">68<span class=\"ms-text\"></span></td><td>Python 3</td><td>175<span class=\"b-text\"></span></td><td><a class=\"real-time-update show-date\" data-method=\"from-now\" data-placement=\"top\" data-timestamp=\"1611915698\" href=\"javascript:void(0);\" rel=\"tooltip\" title=\"2021-01-29 19:21:38\">1시간 전</a></td></tr>\n",
      "<tr id=\"solution-25792897\"><td>25792897</td><td><a href=\"/user/jyk_helia\">jyk_helia</a></td><td><a class=\"problem_title tooltip-click\" data-placement=\"right\" href=\"/problem/1157\" rel=\"tooltip\" title=\"단어 공부\">1157</a></td><td class=\"result\"><span class=\"result-text\"><span class=\"result-ac\">맞았습니다!!</span></span></td><td class=\"memory\">30732<span class=\"kb-text\"></span></td><td class=\"time\">136<span class=\"ms-text\"></span></td><td>Python 3</td><td>192<span class=\"b-text\"></span></td><td><a class=\"real-time-update show-date\" data-method=\"from-now\" data-placement=\"top\" data-timestamp=\"1611851146\" href=\"javascript:void(0);\" rel=\"tooltip\" title=\"2021-01-29 01:25:46\">19시간 전</a></td></tr>\n",
      "<tr id=\"solution-25790381\"><td>25790381</td><td><a href=\"/user/jyk_helia\">jyk_helia</a></td><td><a class=\"problem_title tooltip-click\" data-placement=\"right\" href=\"/problem/1152\" rel=\"tooltip\" title=\"단어의 개수\">1152</a></td><td class=\"result\"><span class=\"result-text\"><span class=\"result-ac\">맞았습니다!!</span></span></td><td class=\"memory\">30732<span class=\"kb-text\"></span></td><td class=\"time\">176<span class=\"ms-text\"></span></td><td>Python 3</td><td>169<span class=\"b-text\"></span></td><td><a class=\"real-time-update show-date\" data-method=\"from-now\" data-placement=\"top\" data-timestamp=\"1611846091\" href=\"javascript:void(0);\" rel=\"tooltip\" title=\"2021-01-29 00:01:31\">20시간 전</a></td></tr>\n",
      "<Response [200]>\n",
      "<tr id=\"solution-25815812\"><td>25815812</td><td><a href=\"/user/eunheechoi95\">eunheechoi95</a></td><td><a class=\"problem_title tooltip-click\" data-placement=\"right\" href=\"/problem/2606\" rel=\"tooltip\" title=\"바이러스\">2606</a></td><td class=\"result\"><span class=\"result-text\"><span class=\"result-ac\">맞았습니다!!</span></span></td><td class=\"memory\">28776<span class=\"kb-text\"></span></td><td class=\"time\">72<span class=\"ms-text\"></span></td><td>Python 3</td><td>754<span class=\"b-text\"></span></td><td><a class=\"real-time-update show-date\" data-method=\"from-now\" data-placement=\"top\" data-timestamp=\"1611914667\" href=\"javascript:void(0);\" rel=\"tooltip\" title=\"2021-01-29 19:04:27\">1시간 전</a></td></tr>\n",
      "<tr id=\"solution-25815805\"><td>25815805</td><td><a href=\"/user/eunheechoi95\">eunheechoi95</a></td><td><a class=\"problem_title tooltip-click\" data-placement=\"right\" href=\"/problem/2606\" rel=\"tooltip\" title=\"바이러스\">2606</a></td><td class=\"result\"><span class=\"result-text\"><span class=\"result-ac\">맞았습니다!!</span></span></td><td class=\"memory\">28776<span class=\"kb-text\"></span></td><td class=\"time\">76<span class=\"ms-text\"></span></td><td>Python 3</td><td>754<span class=\"b-text\"></span></td><td><a class=\"real-time-update show-date\" data-method=\"from-now\" data-placement=\"top\" data-timestamp=\"1611914658\" href=\"javascript:void(0);\" rel=\"tooltip\" title=\"2021-01-29 19:04:18\">1시간 전</a></td></tr>\n",
      "<Response [200]>\n",
      "<Response [200]>\n",
      "<tr id=\"solution-25813031\"><td>25813031</td><td><a href=\"/user/edge1994\">edge1994</a></td><td><a class=\"problem_title tooltip-click\" data-placement=\"right\" href=\"/problem/2606\" rel=\"tooltip\" title=\"바이러스\">2606</a></td><td class=\"result\"><span class=\"result-text\"><span class=\"result-ac\">맞았습니다!!</span></span></td><td class=\"memory\">28776<span class=\"kb-text\"></span></td><td class=\"time\">76<span class=\"ms-text\"></span></td><td>Python 3</td><td>428<span class=\"b-text\"></span></td><td><a class=\"real-time-update show-date\" data-method=\"from-now\" data-placement=\"top\" data-timestamp=\"1611910017\" href=\"javascript:void(0);\" rel=\"tooltip\" title=\"2021-01-29 17:46:57\">3시간 전</a></td></tr>\n",
      "<Response [200]>\n",
      "오늘 푼 문제 목록:\n",
      "{'edge1994': [('2606', '바이러스')],\n",
      " 'eunheechoi95': [('2606', '바이러스'), ('2606', '바이러스')],\n",
      " 'jake0403': [('10845', '큐')],\n",
      " 'jyk_helia': [('1330', '두 수 비교하기'), ('1157', '단어 공부'), ('1152', '단어의 개수')],\n",
      " 'lisagamer': [],\n",
      " 'lsl031': [],\n",
      " 'purings210': [('1152', '단어의 개수')],\n",
      " 'rhyuys115': [],\n",
      " 'ririro93': [],\n",
      " 'sungyujeon': [],\n",
      " 'whiteun': [],\n",
      " 'wkd6576': []}\n"
     ]
    },
    {
     "data": {
      "text/plain": [
       "{'sungyujeon': [],\n",
       " 'ririro93': [],\n",
       " 'jake0403': [('10845', '큐')],\n",
       " 'purings210': [('1152', '단어의 개수')],\n",
       " 'rhyuys115': [],\n",
       " 'wkd6576': [],\n",
       " 'lsl031': [],\n",
       " 'jyk_helia': [('1330', '두 수 비교하기'), ('1157', '단어 공부'), ('1152', '단어의 개수')],\n",
       " 'eunheechoi95': [('2606', '바이러스'), ('2606', '바이러스')],\n",
       " 'whiteun': [],\n",
       " 'edge1994': [('2606', '바이러스')],\n",
       " 'lisagamer': []}"
      ]
     },
     "execution_count": 28,
     "metadata": {},
     "output_type": "execute_result"
    }
   ],
   "source": [
    "baek.get_all_results()"
   ]
  },
  {
   "cell_type": "code",
   "execution_count": null,
   "id": "historic-medicine",
   "metadata": {},
   "outputs": [],
   "source": []
  }
 ],
 "metadata": {
  "kernelspec": {
   "display_name": "Python 3",
   "language": "python",
   "name": "python3"
  },
  "language_info": {
   "codemirror_mode": {
    "name": "ipython",
    "version": 3
   },
   "file_extension": ".py",
   "mimetype": "text/x-python",
   "name": "python",
   "nbconvert_exporter": "python",
   "pygments_lexer": "ipython3",
   "version": "3.8.7"
  },
  "toc": {
   "base_numbering": 1,
   "nav_menu": {},
   "number_sections": true,
   "sideBar": true,
   "skip_h1_title": false,
   "title_cell": "Table of Contents",
   "title_sidebar": "Contents",
   "toc_cell": false,
   "toc_position": {},
   "toc_section_display": true,
   "toc_window_display": false
  }
 },
 "nbformat": 4,
 "nbformat_minor": 5
}
