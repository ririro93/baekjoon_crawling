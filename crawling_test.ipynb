{
 "cells": [
  {
   "cell_type": "code",
   "execution_count": 1,
   "id": "impressed-announcement",
   "metadata": {
    "ExecuteTime": {
     "end_time": "2021-01-28T15:15:02.752559Z",
     "start_time": "2021-01-28T15:15:02.039996Z"
    }
   },
   "outputs": [],
   "source": [
    "import datetime\n",
    "import pytz\n",
    "import requests\n",
    "\n",
    "from pprint import pprint\n",
    "from bs4 import BeautifulSoup"
   ]
  },
  {
   "cell_type": "code",
   "execution_count": 6,
   "id": "burning-malawi",
   "metadata": {
    "ExecuteTime": {
     "end_time": "2021-01-28T15:16:35.647329Z",
     "start_time": "2021-01-28T15:16:35.632340Z"
    }
   },
   "outputs": [],
   "source": [
    "class Baekjoon():\n",
    "    \n",
    "    # get today's date\n",
    "    def get_date(self):\n",
    "        now = datetime.datetime.now()\n",
    "        formatted_today = f'{now.year}-{now.month:02}-{now.day-1:02}'\n",
    "        return formatted_today\n",
    "\n",
    "    # get info from web\n",
    "    def get_info(self, subject, URL, selector):\n",
    "        result = []\n",
    "        res = requests.get(URL)\n",
    "        soup = BeautifulSoup(res.text, 'html.parser')\n",
    "        soup = soup.select_one(selector)\n",
    "        # users info\n",
    "        if subject == 'users':\n",
    "            infos = soup.find_all('div', {'class': 'member'})\n",
    "            for info in infos:\n",
    "                result.append(info.h4.a.text)\n",
    "            return result\n",
    "        # problems info\n",
    "        elif subject == 'problems':\n",
    "            infos = soup.find_all('tr')\n",
    "            for info in infos:\n",
    "                result_span = info.find('span', {'class': 'result-ac'})          \n",
    "                # 맞았으면 통째로 반환\n",
    "                if result_span:\n",
    "                    result.append(info)\n",
    "            return result\n",
    "\n",
    "    # get user ids -> returns dictionary of key: user_id ,val: []\n",
    "    def get_user_ids(self):\n",
    "        user_URL = 'https://www.acmicpc.net/group/member/10060'\n",
    "        user_selector = 'body > div.wrapper > div.container.content > div.row > div:nth-child(5)'\n",
    "\n",
    "        user_ids = self.get_info('users', user_URL, user_selector)\n",
    "        print(f'오늘자 서울_1반 알고리즘 스터디 가입자:\\n{user_ids}\\n')\n",
    "\n",
    "        # initialize dictionary to record todays' solves\n",
    "        dic = {}\n",
    "        for user_id in user_ids:\n",
    "            dic[user_id] = []\n",
    "        return user_ids, dic\n",
    "\n",
    "    # get results for each user\n",
    "    def get_all_results(self):\n",
    "        user_ids, user_dict = self.get_user_ids()\n",
    "        formatted_today = self.get_date()\n",
    "        for user_id in user_ids:\n",
    "            grading_URL = f'https://www.acmicpc.net/status?problem_id=&user_id={user_id}&language_id=-1&result_id=-1'\n",
    "            grading_selector = '#status-table > tbody'\n",
    "            prob_infos = self.get_info('problems', grading_URL, grading_selector)\n",
    "        \n",
    "        for prob_info in prob_infos:\n",
    "            # print(prob_info)\n",
    "            prob = prob_info.find('a', {'class': 'problem_title'})\n",
    "            prob_title = prob.get('title')\n",
    "            prob_num = prob.text\n",
    "            date = prob_info.find('a', {'class': 'real-time-update'}).get('title')[:10]\n",
    "            if date == formatted_today:\n",
    "                user_dict[user_id].append((prob_num, prob_title))\n",
    "\n",
    "        # show results\n",
    "        print('오늘 푼 문제 목록:')\n",
    "        pprint(user_dict)\n",
    "        return user_dict"
   ]
  },
  {
   "cell_type": "code",
   "execution_count": 7,
   "id": "continuous-links",
   "metadata": {
    "ExecuteTime": {
     "end_time": "2021-01-28T15:16:35.960742Z",
     "start_time": "2021-01-28T15:16:35.952746Z"
    }
   },
   "outputs": [],
   "source": [
    "baek = Baekjoon()"
   ]
  },
  {
   "cell_type": "code",
   "execution_count": 8,
   "id": "explicit-narrow",
   "metadata": {
    "ExecuteTime": {
     "end_time": "2021-01-28T15:16:42.981287Z",
     "start_time": "2021-01-28T15:16:36.248564Z"
    }
   },
   "outputs": [
    {
     "name": "stdout",
     "output_type": "stream",
     "text": [
      "오늘자 서울_1반 알고리즘 스터디 가입자:\n",
      "['lsl031', 'rhyuys115', 'edge1994', 'ririro93', 'wkd6576', 'sungyujeon', 'jyk_helia', 'eunheechoi95', 'jake0403', 'whiteun', 'purings210', 'lisagamer']\n",
      "\n",
      "오늘 푼 문제 목록:\n",
      "{'edge1994': [],\n",
      " 'eunheechoi95': [],\n",
      " 'jake0403': [],\n",
      " 'jyk_helia': [],\n",
      " 'lisagamer': [],\n",
      " 'lsl031': [],\n",
      " 'purings210': [],\n",
      " 'rhyuys115': [],\n",
      " 'ririro93': [],\n",
      " 'sungyujeon': [],\n",
      " 'whiteun': [],\n",
      " 'wkd6576': []}\n"
     ]
    },
    {
     "data": {
      "text/plain": [
       "{'lsl031': [],\n",
       " 'rhyuys115': [],\n",
       " 'edge1994': [],\n",
       " 'ririro93': [],\n",
       " 'wkd6576': [],\n",
       " 'sungyujeon': [],\n",
       " 'jyk_helia': [],\n",
       " 'eunheechoi95': [],\n",
       " 'jake0403': [],\n",
       " 'whiteun': [],\n",
       " 'purings210': [],\n",
       " 'lisagamer': []}"
      ]
     },
     "execution_count": 8,
     "metadata": {},
     "output_type": "execute_result"
    }
   ],
   "source": [
    "baek.get_all_results()"
   ]
  },
  {
   "cell_type": "code",
   "execution_count": null,
   "id": "historic-medicine",
   "metadata": {},
   "outputs": [],
   "source": []
  }
 ],
 "metadata": {
  "kernelspec": {
   "display_name": "Python 3",
   "language": "python",
   "name": "python3"
  },
  "language_info": {
   "codemirror_mode": {
    "name": "ipython",
    "version": 3
   },
   "file_extension": ".py",
   "mimetype": "text/x-python",
   "name": "python",
   "nbconvert_exporter": "python",
   "pygments_lexer": "ipython3",
   "version": "3.8.7"
  },
  "toc": {
   "base_numbering": 1,
   "nav_menu": {},
   "number_sections": true,
   "sideBar": true,
   "skip_h1_title": false,
   "title_cell": "Table of Contents",
   "title_sidebar": "Contents",
   "toc_cell": false,
   "toc_position": {},
   "toc_section_display": true,
   "toc_window_display": false
  }
 },
 "nbformat": 4,
 "nbformat_minor": 5
}
